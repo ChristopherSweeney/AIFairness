{
 "cells": [
  {
   "cell_type": "code",
   "execution_count": 1,
   "metadata": {},
   "outputs": [],
   "source": [
    "# !pip install --upgrade-strategy=only-if-needed tensorflow~=1.6.0rc0\n",
    "# !pip install -U gensim~=3.2.0"
   ]
  },
  {
   "cell_type": "code",
   "execution_count": 3,
   "metadata": {
    "colab": {
     "base_uri": "https://localhost:8080/",
     "height": 1322
    },
    "colab_type": "code",
    "id": "gOrI3fGc87cz",
    "outputId": "43769798-0a70-4e65-b8a2-2d6cf531d2fd"
   },
   "outputs": [],
   "source": [
    "import gensim\n",
    "import gzip\n",
    "import numpy as np\n",
    "import os\n",
    "import pandas as pd\n",
    "import tensorflow as tf\n",
    "from gensim.test.utils import common_texts, get_tmpfile\n",
    "from model_tool import ToxModel\n",
    "execfile(\"./FairAI.py\")"
   ]
  },
  {
   "cell_type": "markdown",
   "metadata": {},
   "source": [
    "# Load word2vec embedding model"
   ]
  },
  {
   "cell_type": "code",
   "execution_count": 4,
   "metadata": {
    "colab": {
     "base_uri": "https://localhost:8080/",
     "height": 243
    },
    "colab_type": "code",
    "id": "F_B4Madl_5xp",
    "outputId": "f6bebc8a-9b9f-4d47-ed76-71587e99dd9d"
   },
   "outputs": [
    {
     "name": "stdout",
     "output_type": "stream",
     "text": [
      "Loading word embeddings from ../data/embeddings/GoogleNews-vectors-negative300.bin.gz\n",
      "vector_size =  300\n",
      "Loading 2000000 embeddings\n",
      "('duplicate words detected, shrinking matrix size from %i to %i', 3000000, 2000000)\n",
      "('loaded %s matrix', (2000000, 300))\n"
     ]
    }
   ],
   "source": [
    "local_dir_name = '../data'\n",
    "WORD2VEC_FILE = os.path.join(local_dir_name+\"/embeddings\", \"GoogleNews-vectors-negative300.bin.gz\")\n",
    "ANALOGIES_FILE = os.path.join(local_dir_name, \"questions-words.txt\")\n",
    "if not 'client' in vars():\n",
    "  print \"Loading word embeddings from %s\" % WORD2VEC_FILE\n",
    "  with gzip.GzipFile(fileobj=open(WORD2VEC_FILE, 'r')) as f:\n",
    "    client = load_word2vec_format(f, max_num_words=2000000)\n",
    "embeddings = client"
   ]
  },
  {
   "cell_type": "markdown",
   "metadata": {},
   "source": [
    "# Load GloVe embedding model"
   ]
  },
  {
   "cell_type": "code",
   "execution_count": 81,
   "metadata": {},
   "outputs": [],
   "source": [
    "from gensim.scripts.glove2word2vec import glove2word2vec\n",
    "glove_input_file = '../data/glove.6B/glove.6B.100d.txt'\n",
    "word2vec_output_file = '../data/glove.6B/glove.6B.100d.txt.word2vec'\n",
    "glove2word2vec(glove_input_file, word2vec_output_file)\n",
    "embeddings = gensim.models.KeyedVectors.load_word2vec_format(word2vec_output_file,binary=False)\n",
    "client = embeddings"
   ]
  },
  {
   "cell_type": "markdown",
   "metadata": {},
   "source": [
    "## Are there harmful anaolgies with repsect to negative sentiment?"
   ]
  },
  {
   "cell_type": "code",
   "execution_count": 5,
   "metadata": {
    "colab": {
     "base_uri": "https://localhost:8080/",
     "height": 121
    },
    "colab_type": "code",
    "id": "6rEfwqtDIt0Q",
    "outputId": "48205f75-b9a3-49ad-8e42-8c41e20be3f2"
   },
   "outputs": [
    {
     "name": "stdout",
     "output_type": "stream",
     "text": [
      "5 closest neighbors to A-B+C:\n",
      "smart : score=0.668151\n",
      "intelligent : score=0.454270\n",
      "dumb : score=0.442581\n",
      "smarter : score=0.412079\n",
      "american : score=0.410000\n"
     ]
    }
   ],
   "source": [
    "A = \"asian\"\n",
    "B = \"american\"\n",
    "C = \"smart\"\n",
    "NUM_ANALOGIES = 5\n",
    "\n",
    "in_arr = []\n",
    "for i, word in enumerate((A, B, C)):\n",
    "  in_arr.append(client.word_vec(word))\n",
    "in_arr = np.array([in_arr])\n",
    "\n",
    "print_knn(client, -in_arr[0, 0, :] + in_arr[0, 1, :] + in_arr[0, 2, :],\n",
    "          NUM_ANALOGIES)"
   ]
  },
  {
   "cell_type": "code",
   "execution_count": 6,
   "metadata": {
    "colab": {
     "base_uri": "https://localhost:8080/",
     "height": 121
    },
    "colab_type": "code",
    "id": "2RtfKMshE0gy",
    "outputId": "c806fe01-7bc4-4252-d7d2-3edc2b73f336"
   },
   "outputs": [
    {
     "name": "stdout",
     "output_type": "stream",
     "text": [
      "loaded 19544 analogies\n",
      "write is to writes as increase is to increases\n",
      "write is to writes as listen is to listens\n",
      "write is to writes as play is to plays\n",
      "write is to writes as predict is to predicts\n",
      "write is to writes as provide is to provides\n",
      "write is to writes as say is to says\n",
      "write is to writes as scream is to screams\n",
      "write is to writes as search is to searches\n",
      "write is to writes as see is to sees\n",
      "write is to writes as shuffle is to shuffles\n",
      "write is to writes as sing is to sings\n",
      "write is to writes as sit is to sits\n",
      "write is to writes as slow is to slows\n",
      "write is to writes as speak is to speaks\n",
      "write is to writes as swim is to swims\n",
      "write is to writes as talk is to talks\n",
      "write is to writes as think is to thinks\n",
      "write is to writes as vanish is to vanishes\n",
      "write is to writes as walk is to walks\n",
      "write is to writes as work is to works\n"
     ]
    }
   ],
   "source": [
    "analogies = load_analogies(ANALOGIES_FILE)\n",
    "print \"\\n\".join(\"%s is to %s as %s is to %s\" % tuple(x) for x in analogies[-20:])"
   ]
  },
  {
   "cell_type": "markdown",
   "metadata": {},
   "source": [
    "# Create directional sentiment word vector"
   ]
  },
  {
   "cell_type": "code",
   "execution_count": 100,
   "metadata": {},
   "outputs": [],
   "source": [
    "pos_words = load_lexicon(\"../data/opinion_lexicon/positive-words.txt\")\n",
    "neg_words = load_lexicon(\"../data/opinion_lexicon/negative-words.txt\")\n",
    "pos_words_fil = filter(lambda x:  x in embeddings,map(lambda x: x,pos_words))\n",
    "neg_words_fil = filter(lambda x:  x in embeddings,map(lambda x: x,neg_words))\n",
    "pos_vectors = embeddings[pos_words_fil]\n",
    "neg_vectors = embeddings[neg_words_fil]\n",
    "vectors = np.concatenate([pos_vectors, neg_vectors])\n",
    "targets = np.array([0 for entry in pos_vectors] + [1 for entry in neg_vectors])\n",
    "train_vectors, test_vectors, train_targets, test_targets = train_test_split(vectors, targets, test_size=0.1, random_state=0)\n",
    "\n",
    "words_in_embeddings = []\n",
    "for i,j in enumerate(pos_words+neg_words):\n",
    "    if j.lower() in embeddings:\n",
    "        words_in_embeddings.append(j)"
   ]
  },
  {
   "cell_type": "code",
   "execution_count": 101,
   "metadata": {},
   "outputs": [
    {
     "data": {
      "text/plain": [
       "0.8990384615384616"
      ]
     },
     "execution_count": 101,
     "metadata": {},
     "output_type": "execute_result"
    }
   ],
   "source": [
    "from sklearn.linear_model import LogisticRegression\n",
    "clf = LogisticRegression(random_state=0, solver='lbfgs',\n",
    "                         multi_class='multinomial').fit(train_vectors,train_targets)\n",
    "clf.score(test_vectors,test_targets)"
   ]
  },
  {
   "cell_type": "markdown",
   "metadata": {},
   "source": [
    "# Create sentiment subspaces via Bolukbasi et al. 2016"
   ]
  },
  {
   "cell_type": "code",
   "execution_count": 114,
   "metadata": {},
   "outputs": [
    {
     "data": {
      "text/plain": [
       "<BarContainer object of 100 artists>"
      ]
     },
     "execution_count": 114,
     "metadata": {},
     "output_type": "execute_result"
    },
    {
     "data": {
      "image/png": "[encoded data removed]",
      "text/plain": [
       "<Figure size 432x288 with 1 Axes>"
      ]
     },
     "metadata": {},
     "output_type": "display_data"
    }
   ],
   "source": [
    "%matplotlib inline\n",
    "\n",
    "import nltk \n",
    "from nltk.corpus import wordnet \n",
    "good = []\n",
    "bad=  []\n",
    "\n",
    "for word in pos_words:\n",
    "    a = wordnet.synsets(word)\n",
    "    if len(a)>0:\n",
    "        syn = a[0] .lemmas()[0]\n",
    "        if len(syn.antonyms())>0:\n",
    "            good.append(word)\n",
    "            bad.append(syn.antonyms()[0].name()) \n",
    "            \n",
    "good_vectors=[]\n",
    "bad_vectors = []\n",
    "# good = ['good','beautiful','happy','positive','compentent','smart','interesting','pleasant','best','honest','wealthy','wonderful']\n",
    "# bad = ['bad','ugly','sad','negative','incompetent','dumb','boring','horrible','worst','corrupt','poor','awful']\n",
    "# good = ['amazing']\n",
    "# bad = ['horrible']\n",
    "choices = np.random.choice(len(good),20)\n",
    "for i,j in zip(good,bad):\n",
    "    if i in embeddings and j in embeddings:\n",
    "        good_vectors.append(_np_normalize(embeddings[i]))\n",
    "        bad_vectors.append(_np_normalize(embeddings[j]))\n",
    "\n",
    "good_vectors = np.array(good_vectors)\n",
    "bad_vectors = np.array(bad_vectors)\n",
    "X = good_vectors-bad_vectors\n",
    "m = np.dot(X.T,X)\n",
    "evals, evecs = np.linalg.eig(m)\n",
    "vec = _np_normalize(np.real(evecs[:, np.argmax(evals)]))\n",
    "plt.bar(np.arange(100),evals[:100])"
   ]
  },
  {
   "cell_type": "markdown",
   "metadata": {},
   "source": [
    "## create sentiment subspace via our method"
   ]
  },
  {
   "cell_type": "code",
   "execution_count": 117,
   "metadata": {},
   "outputs": [
    {
     "data": {
      "image/png": "[encoded data removed]",
      "text/plain": [
       "<Figure size 432x288 with 1 Axes>"
      ]
     },
     "metadata": {},
     "output_type": "display_data"
    }
   ],
   "source": [
    "pos_vectors1=pos_vectors[np.random.choice(len(pos_vectors),len(pos_vectors))]\n",
    "m=np.dot(pos_vectors1.T,pos_vectors1)\n",
    "evals, evecs = np.linalg.eig(m)\n",
    "vec_pos = _np_normalize(np.real(evecs[:, np.argmax(evals)]))\n",
    "fig = plt.figure()\n",
    "plt.bar(np.arange(30),evals[:30])\n",
    "fig.savefig('/home/csweeney/Downloads/glove_pos_s.png', format='png',dpi=300,bbox_inches='tight')"
   ]
  },
  {
   "cell_type": "code",
   "execution_count": 118,
   "metadata": {},
   "outputs": [],
   "source": [
    "neg_vectors1=neg_vectors[np.random.choice(len(pos_vectors1),len(pos_vectors1))]"
   ]
  },
  {
   "cell_type": "code",
   "execution_count": 119,
   "metadata": {},
   "outputs": [
    {
     "data": {
      "image/png": "[encoded data removed]",
      "text/plain": [
       "<Figure size 432x288 with 1 Axes>"
      ]
     },
     "metadata": {},
     "output_type": "display_data"
    }
   ],
   "source": [
    "m=np.dot(neg_vectors1.T,neg_vectors1)\n",
    "evals, evecs = np.linalg.eig(m)\n",
    "vec_neg = _np_normalize(np.real(evecs[:, np.argmax(evals)]))\n",
    "plt.figure()\n",
    "plt.bar(np.arange(30),evals[:30])\n",
    "fig.savefig('/home/csweeney/Downloads/glove_neg_s.png', format='png',dpi=300,bbox_inches='tight')"
   ]
  },
  {
   "cell_type": "code",
   "execution_count": 120,
   "metadata": {},
   "outputs": [],
   "source": [
    "##get direcitonal sentiment vector\n",
    "# vec=vec_pos-vec_neg\n",
    "vec=(vec_pos-vec_neg)"
   ]
  },
  {
   "cell_type": "markdown",
   "metadata": {},
   "source": [
    "## Or load in the vector from the paper"
   ]
  },
  {
   "cell_type": "code",
   "execution_count": 7,
   "metadata": {},
   "outputs": [],
   "source": [
    "#optionally read weights\n",
    "import pickle\n",
    "vec= np.array([])\n",
    "with open('./best_toxic_vector.pkl', \"rb\") as openfile:\n",
    "    while True:\n",
    "        try:\n",
    "            vec = pickle.load(openfile)\n",
    "        except EOFError:\n",
    "            break"
   ]
  },
  {
   "cell_type": "markdown",
   "metadata": {},
   "source": [
    "## how does the sign of projection correlate with positive/negative labels"
   ]
  },
  {
   "cell_type": "code",
   "execution_count": 121,
   "metadata": {},
   "outputs": [
    {
     "name": "stdout",
     "output_type": "stream",
     "text": [
      "-0.19016138\n"
     ]
    }
   ],
   "source": [
    "#sanity check\n",
    "WORD = \"horrible\"\n",
    "word_vec = _np_normalize(client.word_vec(WORD))\n",
    "print vec.dot(word_vec.T)"
   ]
  },
  {
   "cell_type": "code",
   "execution_count": 122,
   "metadata": {},
   "outputs": [
    {
     "name": "stdout",
     "output_type": "stream",
     "text": [
      "0.851691518358\n"
     ]
    }
   ],
   "source": [
    "count = 0 \n",
    "for i,j in zip(vectors,(targets*2-1)*-1):\n",
    "    if int(np.sign(i.dot(vec))) == j:\n",
    "        count+=1\n",
    "print count/float(len(targets))"
   ]
  },
  {
   "cell_type": "code",
   "execution_count": 58,
   "metadata": {},
   "outputs": [
    {
     "name": "stdout",
     "output_type": "stream",
     "text": [
      "WARNING:tensorflow:From /usr/local/lib/python2.7/dist-packages/keras/backend/tensorflow_backend.py:1259: calling reduce_prod (from tensorflow.python.ops.math_ops) with keep_dims is deprecated and will be removed in a future version.\n",
      "Instructions for updating:\n",
      "keep_dims is deprecated, use keepdims instead\n",
      "WARNING:tensorflow:From /usr/local/lib/python2.7/dist-packages/keras/backend/tensorflow_backend.py:2880: calling reduce_sum (from tensorflow.python.ops.math_ops) with keep_dims is deprecated and will be removed in a future version.\n",
      "Instructions for updating:\n",
      "keep_dims is deprecated, use keepdims instead\n",
      "WARNING:tensorflow:From /usr/local/lib/python2.7/dist-packages/keras/backend/tensorflow_backend.py:1344: calling reduce_mean (from tensorflow.python.ops.math_ops) with keep_dims is deprecated and will be removed in a future version.\n",
      "Instructions for updating:\n",
      "keep_dims is deprecated, use keepdims instead\n",
      "Hyperparameters\n",
      "---------------\n",
      "max_num_words: 10000\n",
      "dropout_rate: 0.3\n",
      "verbose: True\n",
      "cnn_pooling_sizes: [5, 5, 40]\n",
      "es_min_delta: 0\n",
      "learning_rate: 5e-05\n",
      "embedding_dim: 100\n",
      "cnn_kernel_sizes: [5, 5, 5]\n",
      "es_patience: 1\n",
      "epochs: 4\n",
      "cnn_filter_sizes: [128, 128, 128]\n",
      "batch_size: 128\n",
      "model_name: wiki_debias_cnn_v3_109\n",
      "max_sequence_length: 250\n",
      "stop_early: True\n",
      "embedding_trainable: False\n",
      "\n"
     ]
    }
   ],
   "source": [
    "MODEL_DIR = '../models/'\n",
    "debias_model_name = 'wiki_debias_cnn_v3_{}'.format(109)\n",
    "debias_model = ToxModel(debias_model_name,model_dir=MODEL_DIR)"
   ]
  },
  {
   "cell_type": "code",
   "execution_count": 59,
   "metadata": {},
   "outputs": [
    {
     "name": "stdout",
     "output_type": "stream",
     "text": [
      "0.966502619463\n"
     ]
    }
   ],
   "source": [
    "count = 0 \n",
    "threshold = .5\n",
    "for  index, (i,j) in enumerate(zip(vectors,(targets*2-1)*-1)):\n",
    "    if (int(np.sign(i.dot(vec)))+1)/2 == (debias_model.predict([words_in_embeddings[index]])>=threshold):\n",
    "        count+=1\n",
    "print count/float(len(targets))"
   ]
  },
  {
   "cell_type": "code",
   "execution_count": 407,
   "metadata": {},
   "outputs": [],
   "source": [
    "#save weights\n",
    "import pickle\n",
    "with open('glove_vec_new_s.pkl', 'wb') as f:\n",
    "    pickle.dump(vec, f)"
   ]
  },
  {
   "cell_type": "markdown",
   "metadata": {},
   "source": [
    "## define set of identity terms"
   ]
  },
  {
   "cell_type": "code",
   "execution_count": 8,
   "metadata": {},
   "outputs": [],
   "source": [
    "identities = ['lesbian', 'gay', 'bisexual', 'transgender', 'trans', 'queer', \n",
    "              'lgbt', 'lgbtq', 'homosexual', 'straight', 'heterosexual', 'male', \n",
    "              'female', 'nonbinary', 'african', 'african american', 'black', 'white', \n",
    "              'european', 'hispanic', 'latino', 'latina', 'latinx', 'mexican', 'canadian', \n",
    "              'american', 'asian', 'indian', 'middle eastern', 'chinese', 'japanese', \n",
    "              'christian', 'muslim', 'jewish', 'buddhist', 'catholic', 'protestant', 'sikh', \n",
    "              'taoist', 'old', 'older', 'young', 'younger', 'teenage', 'millenial', 'middle aged', \n",
    "              'elderly', 'blind', 'deaf', 'paralyzed']\n",
    "identities = filter(lambda x: x in embeddings,identities)\n",
    "nationalities=[\n",
    "'German',\n",
    "'African_American',\n",
    "'Mexican',\n",
    "'Irish',\n",
    "'English',\n",
    "'American',\n",
    "'Italian',\n",
    "'Polish',\n",
    "'French',\n",
    "'Scottish',\n",
    "'Puerto_Rican',\n",
    "'Norwegian',\n",
    "'Dutch',\n",
    "'Swedish',\n",
    "'Chinese',\n",
    "'Indian',\n",
    "'Russian',\n",
    "'Filipino'\n",
    "]\n",
    "nationalities = filter(lambda x: x.lower() in embeddings,nationalities)\n",
    "\n",
    "religions =[ \n",
    "    'Zionist',\n",
    "    'Catholic',\n",
    "    'Christian',\n",
    "    'Islamic',\n",
    "    'Protestant',\n",
    "#     'Taoist',\n",
    "    'Atheist',\n",
    "    'Hindu',\n",
    "    'Buddhist',\n",
    "#     'Diasporic',\n",
    "    'Sikh',\n",
    "#     'Juche',\n",
    "    'Jewish',\n",
    "#     'Bahai',\n",
    "#     'Jains',\n",
    "#     'Shinto',\n",
    "#     'Pagan'\n",
    "]\n",
    "names = [\"Ebony\",\"Alonzo\",\"Amanda\",\"Adam\",\"Jasmine\",\"Alphonse\",\"Betsy\",\"Alan\",\"Lakisha\",\"Darnell\",\"Courtney\",\"Andrew\",\"Latisha\",\"Jamel\",\"Ellen\",\"Frank\",\"Latoya\",\"Jerome\",\"Heather\",\"Harry\",\"Nichelle\",\"Lamar\",\"Katie\",\"Jack\",\"Shaniqua\",\"Leroy\",\"Kristin\",\"Josh\",\"Shereen\",\"Malik\",\"Melanie\",\"Justin\",\"Tanisha\",\"Terrence\",\"Nancy\",\"Roger\",\"Tia\",\"Torrance\",\"Stephanie\",\"Ryan\"]\n",
    "names = filter(lambda x: x.lower() in embeddings,names)\n",
    "\n",
    "gender = [\"she\",\"her\",\"he\",\"him\", \"woman\",\"man\",\" girl\",\"boy\",\"sister\",\"brother\",\"daughter\",\"son\",\"wife\",\"husband\",\"girlfriend\",\"boyfriend\",\"mother\",\"father\", \"aunt\",\"uncle\",\"mommy\",\"dad\"]"
   ]
  },
  {
   "cell_type": "code",
   "execution_count": 8,
   "metadata": {},
   "outputs": [
    {
     "name": "stdout",
     "output_type": "stream",
     "text": [
      "         word  sentiment_score\n",
      "0     Zionist        -0.117124\n",
      "5     Atheist        -0.113430\n",
      "8        Sikh        -0.046505\n",
      "6       Hindu        -0.010465\n",
      "4  Protestant         0.009221\n",
      "3     Islamic         0.075022\n",
      "9      Jewish         0.091240\n",
      "1    Catholic         0.104941\n",
      "7    Buddhist         0.133636\n",
      "2   Christian         0.195865\n"
     ]
    }
   ],
   "source": [
    "words = filter(lambda x: x.lower() in embeddings,religions)\n",
    "df = pd.DataFrame(data={\"word\": list(words)})\n",
    "df[\"sentiment_score\"] = df[\"word\"].map(\n",
    "    lambda w: _np_normalize(embeddings[w.lower()]).dot(vec))\n",
    "df.sort_values(by=\"sentiment_score\", inplace=True)\n",
    "print df"
   ]
  },
  {
   "cell_type": "code",
   "execution_count": 123,
   "metadata": {
    "colab": {},
    "colab_type": "code",
    "id": "7tsGeQLKT3ZY"
   },
   "outputs": [
    {
     "name": "stdout",
     "output_type": "stream",
     "text": [
      " training on 400000 word vectors\n"
     ]
    }
   ],
   "source": [
    "tf.reset_default_graph()\n",
    "labels  = embeddings.syn0norm\n",
    "protect=[]\n",
    "for i in labels:\n",
    "    protect.append(_np_normalize(i).dot(vec))\n",
    "protect = np.expand_dims(np.array(protect),1)\n",
    "print(\" training on %s word vectors\" % (np.shape(protect)[0]))"
   ]
  },
  {
   "cell_type": "code",
   "execution_count": 124,
   "metadata": {},
   "outputs": [],
   "source": [
    "#bookeeping\n",
    "w_h=[]\n",
    "# weights = [.5,1,2,4,8,16]\n",
    "weights = [.5]\n",
    "pairs = []\n",
    "unbiased=[]"
   ]
  },
  {
   "cell_type": "code",
   "execution_count": 125,
   "metadata": {
    "colab": {
     "base_uri": "https://localhost:8080/",
     "height": 364
    },
    "colab_type": "code",
    "id": "GhOH62wAR-wz",
    "outputId": "87269f8a-1152-4eec-a16e-9a4190074588",
    "scrolled": true
   },
   "outputs": [
    {
     "name": "stdout",
     "output_type": "stream",
     "text": [
      "weights 0.5\n",
      "step: 0; pred_loss_o: 0.000372; protect_loss_o: 0.028099\n",
      "proj_o: 1.444686; dot(proj_o, adv_direction): 0.111521)\n",
      "step: 1000; pred_loss_o: 0.000479; protect_loss_o: 0.024149\n",
      "proj_o: 1.462235; dot(proj_o, adv_direction): 0.156397)\n",
      "step: 2000; pred_loss_o: 0.000659; protect_loss_o: 0.022457\n",
      "proj_o: 1.493216; dot(proj_o, adv_direction): 0.207968)\n",
      "step: 3000; pred_loss_o: 0.000916; protect_loss_o: 0.021698\n",
      "proj_o: 1.535168; dot(proj_o, adv_direction): 0.261263)\n",
      "step: 4000; pred_loss_o: 0.001246; protect_loss_o: 0.021081\n",
      "proj_o: 1.583560; dot(proj_o, adv_direction): 0.312167)\n",
      "step: 5000; pred_loss_o: 0.001618; protect_loss_o: 0.020183\n",
      "proj_o: 1.630969; dot(proj_o, adv_direction): 0.359335)\n",
      "step: 6000; pred_loss_o: 0.001962; protect_loss_o: 0.018887\n",
      "proj_o: 1.669477; dot(proj_o, adv_direction): 0.401329)\n",
      "step: 7000; pred_loss_o: 0.002189; protect_loss_o: 0.017277\n",
      "proj_o: 1.691283; dot(proj_o, adv_direction): 0.437148)\n",
      "step: 8000; pred_loss_o: 0.002295; protect_loss_o: 0.015544\n",
      "proj_o: 1.700252; dot(proj_o, adv_direction): 0.467163)\n",
      "step: 9000; pred_loss_o: 0.002320; protect_loss_o: 0.013751\n",
      "proj_o: 1.701998; dot(proj_o, adv_direction): 0.494705)\n",
      "step: 10000; pred_loss_o: 0.002226; protect_loss_o: 0.011953\n",
      "proj_o: 1.689374; dot(proj_o, adv_direction): 0.518191)\n",
      "step: 11000; pred_loss_o: 0.002014; protect_loss_o: 0.010259\n",
      "proj_o: 1.658825; dot(proj_o, adv_direction): 0.537879)\n",
      "step: 12000; pred_loss_o: 0.001723; protect_loss_o: 0.008749\n",
      "proj_o: 1.613335; dot(proj_o, adv_direction): 0.554461)\n",
      "step: 13000; pred_loss_o: 0.001403; protect_loss_o: 0.007442\n",
      "proj_o: 1.556490; dot(proj_o, adv_direction): 0.566702)\n",
      "step: 14000; pred_loss_o: 0.001101; protect_loss_o: 0.006339\n",
      "proj_o: 1.493655; dot(proj_o, adv_direction): 0.576013)\n",
      "step: 15000; pred_loss_o: 0.000856; protect_loss_o: 0.005441\n",
      "proj_o: 1.431564; dot(proj_o, adv_direction): 0.585794)\n",
      "step: 16000; pred_loss_o: 0.000676; protect_loss_o: 0.004750\n",
      "proj_o: 1.372988; dot(proj_o, adv_direction): 0.599671)\n",
      "step: 17000; pred_loss_o: 0.000548; protect_loss_o: 0.004270\n",
      "proj_o: 1.317530; dot(proj_o, adv_direction): 0.618745)\n",
      "step: 18000; pred_loss_o: 0.000452; protect_loss_o: 0.003976\n",
      "proj_o: 1.265788; dot(proj_o, adv_direction): 0.640497)\n",
      "step: 19000; pred_loss_o: 0.000375; protect_loss_o: 0.003826\n",
      "proj_o: 1.215610; dot(proj_o, adv_direction): 0.659475)\n",
      "step: 20000; pred_loss_o: 0.000314; protect_loss_o: 0.003793\n",
      "proj_o: 1.165220; dot(proj_o, adv_direction): 0.673847)\n",
      "step: 21000; pred_loss_o: 0.000268; protect_loss_o: 0.003862\n",
      "proj_o: 1.117094; dot(proj_o, adv_direction): 0.685864)\n",
      "step: 22000; pred_loss_o: 0.000241; protect_loss_o: 0.004023\n",
      "proj_o: 1.077697; dot(proj_o, adv_direction): 0.699467)\n",
      "step: 23000; pred_loss_o: 0.000233; protect_loss_o: 0.004259\n",
      "proj_o: 1.052251; dot(proj_o, adv_direction): 0.717633)\n",
      "step: 24000; pred_loss_o: 0.000239; protect_loss_o: 0.004547\n",
      "proj_o: 1.038260; dot(proj_o, adv_direction): 0.738599)\n",
      "step: 25000; pred_loss_o: 0.000251; protect_loss_o: 0.004859\n",
      "proj_o: 1.028705; dot(proj_o, adv_direction): 0.756555)\n",
      "step: 26000; pred_loss_o: 0.000269; protect_loss_o: 0.005184\n",
      "proj_o: 1.025736; dot(proj_o, adv_direction): 0.773122)\n",
      "step: 27000; pred_loss_o: 0.000293; protect_loss_o: 0.005488\n",
      "proj_o: 1.024659; dot(proj_o, adv_direction): 0.784281)\n",
      "step: 28000; pred_loss_o: 0.000323; protect_loss_o: 0.005757\n",
      "proj_o: 1.022763; dot(proj_o, adv_direction): 0.789361)\n",
      "step: 29000; pred_loss_o: 0.000360; protect_loss_o: 0.006006\n",
      "proj_o: 1.019644; dot(proj_o, adv_direction): 0.789657)\n",
      "CPU times: user 4min 51s, sys: 29 s, total: 5min 20s\n",
      "Wall time: 5min\n"
     ]
    }
   ],
   "source": [
    "%%time\n",
    "pred_learning_rate = 2**-16\n",
    "protect_learning_rate = 2**-16\n",
    "num_steps = 30000\n",
    "batch_size = 1000\n",
    "\n",
    "embed_dim = 100\n",
    "projection_dims = 1\n",
    "\n",
    "\n",
    "sess = tf.Session(config=tf.ConfigProto(log_device_placement=True))\n",
    "with tf.variable_scope('var_scope', reuse=tf.AUTO_REUSE):\n",
    "    for i in weights:\n",
    "        print \"weights\", i\n",
    "        protect_loss_weight = i\n",
    "\n",
    "        labels_p = tf.placeholder(tf.float32, shape=[None, embed_dim], name=\"labels\")\n",
    "        protect_p = tf.placeholder(tf.float32, shape=[None, 1], name=\"protect\")\n",
    "\n",
    "        # projection is the space onto which we are \"projecting\". By default, this is\n",
    "        # one-dimensional, but this can be tuned by projection_dims\n",
    "        projection = tf.get_variable(\"projection\", [embed_dim, projection_dims])\n",
    "\n",
    "        # build the prediction layer\n",
    "        pred = labels_p\n",
    "        pred -= tf.matmul(tf.matmul(pred, projection), tf.transpose(projection))\n",
    "\n",
    "        trained_model = AdversarialEmbeddingModel(\n",
    "            client, embed_dim, projection, projection_dims, pred,verbose=True)\n",
    "        trained_model.fit(sess, labels, labels_p, protect, protect_p, vec,\n",
    "                  pred_learning_rate,\n",
    "                protect_learning_rate, protect_loss_weight, num_steps, batch_size)\n",
    "        w=None\n",
    "        with sess.as_default(): w= trained_model.projection.eval()\n",
    "        w_h.append(w)"
   ]
  },
  {
   "cell_type": "code",
   "execution_count": 74,
   "metadata": {},
   "outputs": [],
   "source": [
    "#optionally read weights\n",
    "import pickle\n",
    "vec= np.array([])\n",
    "with open('./glove_vec.pkl', \"rb\") as openfile:\n",
    "    while True:\n",
    "        try:\n",
    "            vec = pickle.load(openfile)\n",
    "        except EOFError:\n",
    "            break"
   ]
  },
  {
   "cell_type": "code",
   "execution_count": 75,
   "metadata": {},
   "outputs": [],
   "source": [
    "#optionally read weights\n",
    "import pickle\n",
    "p = None\n",
    "with (open('./', \"rb\")) as openfile:\n",
    "    while True:\n",
    "        try:\n",
    "            p=pickle.load(openfile)\n",
    "        except EOFError:\n",
    "            break\n",
    "w_h = p"
   ]
  },
  {
   "cell_type": "code",
   "execution_count": 22,
   "metadata": {},
   "outputs": [],
   "source": [
    "unbiased = []\n",
    "pairs = []"
   ]
  },
  {
   "cell_type": "code",
   "execution_count": 23,
   "metadata": {},
   "outputs": [
    {
     "name": "stdout",
     "output_type": "stream",
     "text": [
      "11.4242935\n",
      "((0.6238773451304681, 1.7963247628700625e-39), SpearmanrResult(correlation=0.6589215888009288, pvalue=2.5346056459149263e-45), 0.0)\n",
      "2.7408187\n",
      "((0.6224447658866008, 3.00504083024793e-39), SpearmanrResult(correlation=0.65184927232812, pvalue=4.437628061417715e-44), 0.0)\n",
      "3.8566406\n",
      "((0.623062490972614, 2.4078786460808566e-39), SpearmanrResult(correlation=0.6546950043136879, pvalue=1.4155220846120511e-44), 0.0)\n",
      "3.7560465\n",
      "((0.623960908887512, 1.7430669996765395e-39), SpearmanrResult(correlation=0.6543636706451544, pvalue=1.6179680577963702e-44), 0.0)\n",
      "3.388647\n",
      "((0.6214944487717432, 4.221348343255321e-39), SpearmanrResult(correlation=0.6512557635624597, pvalue=5.623076240070313e-44), 0.0)\n",
      "3.6901522\n",
      "((0.6218769851358951, 3.6821168467631286e-39), SpearmanrResult(correlation=0.6504858799785969, pvalue=7.638539838545728e-44), 0.0)\n",
      "4.164101\n",
      "((0.6224870125543401, 2.959899436796696e-39), SpearmanrResult(correlation=0.6527206430463546, pvalue=3.1316310216308743e-44), 0.0)\n"
     ]
    }
   ],
   "source": [
    "for j in [names]: \n",
    "    words = j\n",
    "    a=map(lambda a: _np_normalize(embeddings[a.lower()]).dot(vec),words)\n",
    "    s1 = np.sum(np.abs(np.array(a)))\n",
    "    print(s1)\n",
    "    unbiased.append(s1)\n",
    "    s2= evaluate_word_pairs(model=embeddings,pairs=\"../data/sim/sim.tsv\",restrict_vocab=2000000,debias=lambda x :x)\n",
    "    print(s2)\n",
    "    pairs.append(s2)\n",
    "    for w in w_h:\n",
    "            a=map(lambda a: (_np_normalize(embeddings[a.lower()])-(np.dot(np.dot(w,w.T),_np_normalize(embeddings[a.lower()])))).dot(vec),words)\n",
    "            s = np.sum(np.abs(np.array(a)))\n",
    "            print(s)\n",
    "            unbiased.append(s)\n",
    "            \n",
    "            s2= evaluate_word_pairs(model=embeddings,pairs=\"../data/sim/sim.tsv\",restrict_vocab=2000000,debias=lambda x :(x-(np.dot(np.dot(w,w.T),x))))\n",
    "            print(s2)\n",
    "            pairs.append(s2)"
   ]
  },
  {
   "cell_type": "code",
   "execution_count": 26,
   "metadata": {},
   "outputs": [
    {
     "data": {
      "image/png": "[encoded data removed]",
      "text/plain": [
       "<Figure size 432x288 with 1 Axes>"
      ]
     },
     "metadata": {},
     "output_type": "display_data"
    }
   ],
   "source": [
    "%matplotlib inline\n",
    "fig = plt.figure()\n",
    "plt.scatter(np.arange(len(weights)),unbiased[:-1],color=\"red\")\n",
    "plt.xticks(np.arange(len(weights)),[0]+weights[:-1])\n",
    "plt.xlabel(\"Adversarial Weights\",fontsize=12)\n",
    "plt.ylabel(\"Summed Sentiment Polarity\",fontsize=12)\n",
    "fig.savefig('/home/csweeney/Downloads/nglove_bb1.png', format='png',dpi=300,bbox_inches='tight')\n",
    "# plt.ylim(,.8)"
   ]
  },
  {
   "cell_type": "code",
   "execution_count": 29,
   "metadata": {},
   "outputs": [
    {
     "data": {
      "image/png": "[encoded data removed]",
      "text/plain": [
       "<Figure size 432x288 with 1 Axes>"
      ]
     },
     "metadata": {},
     "output_type": "display_data"
    }
   ],
   "source": [
    "# pairs= map(lambda x:x[1][0], pairs)\n",
    "fig = plt.figure()\n",
    "plt.scatter(x=np.arange(len(weights)),y=pairs[:-1])\n",
    "plt.xticks(np.arange(len(weights)),[0]+weights[:-1])\n",
    "plt.xlabel(\"Adversarial Weights\",fontsize=12)\n",
    "plt.ylabel(\"WordSim353 Similarity Spearman Correlation\",fontsize=12)\n",
    "fig.savefig('/home/csweeney/Downloads/noglove_bb1.png', format='png',dpi=300,bbox_inches='tight')\n",
    "# plt.ylim(,.8)"
   ]
  },
  {
   "cell_type": "code",
   "execution_count": 108,
   "metadata": {},
   "outputs": [],
   "source": [
    "# #save weights\n",
    "# import pickle\n",
    "# with open('new_w2v_s.pkl', 'wb') as f:\n",
    "#     pickle.dump(w_h, f)"
   ]
  },
  {
   "cell_type": "markdown",
   "metadata": {},
   "source": [
    "## Rembed seleceted word and save model"
   ]
  },
  {
   "cell_type": "code",
   "execution_count": 30,
   "metadata": {},
   "outputs": [],
   "source": [
    "glove_input_file = '../data/glove.6B/glove.6B.100d.txt'\n",
    "word2vec_output_file = '../data/glove.6B/glove.6B.100d.txt.word2vec'\n",
    "glove2word2vec(glove_input_file, word2vec_output_file)\n",
    "embeddings_debias = gensim.models.KeyedVectors.load_word2vec_format(word2vec_output_file,binary=False)"
   ]
  },
  {
   "cell_type": "code",
   "execution_count": 31,
   "metadata": {},
   "outputs": [],
   "source": [
    "w = w_h[0]\n",
    "for i in identities+names+nationalities+religions:\n",
    "    if i.lower() in embeddings_debias:\n",
    "        embeddings_debias.wv.syn0[embeddings_debias.wv.vocab[i.lower()].index] = _np_normalize(embeddings_debias[i.lower()])-(np.dot(np.dot(w,w.T),_np_normalize(embeddings_debias[i.lower()])))\n",
    "embeddings_debias.wv.syn0norm = None\n",
    "embeddings_debias.wv.init_sims()\n",
    "embeddings_debias.save_word2vec_format(\"glove_debias_new_sentiment_with_sentiment_vec.txt\", binary=False)"
   ]
  },
  {
   "cell_type": "code",
   "execution_count": 25,
   "metadata": {},
   "outputs": [],
   "source": [
    "# embeddings = gensim.models.KeyedVectors.load_word2vec_format('detoxified_word2vec_embeddings.txt',binary=False,limit=13000)\n",
    "#embeddings.save_word2vec_format(\"detoxified_word2vec_embeddings_light.txt\", binary=False)"
   ]
  },
  {
   "cell_type": "markdown",
   "metadata": {},
   "source": [
    "## Evaluate Word Embeddings before and after debiasing"
   ]
  },
  {
   "cell_type": "code",
   "execution_count": 126,
   "metadata": {},
   "outputs": [],
   "source": [
    "w = w_h[0]"
   ]
  },
  {
   "cell_type": "code",
   "execution_count": 127,
   "metadata": {},
   "outputs": [
    {
     "data": {
      "text/plain": [
       "[(u'male', 0.9999999403953552),\n",
       " (u'female', 0.9464976191520691),\n",
       " (u'adult', 0.7003792524337769),\n",
       " (u'women', 0.6834636330604553),\n",
       " (u'males', 0.6686494946479797),\n",
       " (u'woman', 0.6552181243896484),\n",
       " (u'young', 0.6431192755699158),\n",
       " (u'females', 0.6378622651100159),\n",
       " (u'sex', 0.6297175884246826),\n",
       " (u'child', 0.628372311592102)]"
      ]
     },
     "execution_count": 127,
     "metadata": {},
     "output_type": "execute_result"
    }
   ],
   "source": [
    "client.similar_by_vector(_np_normalize(embeddings['male']))"
   ]
  },
  {
   "cell_type": "code",
   "execution_count": 129,
   "metadata": {},
   "outputs": [
    {
     "data": {
      "text/plain": [
       "[(u'male', 0.974506676197052),\n",
       " (u'female', 0.9130117893218994),\n",
       " (u'adult', 0.6568492650985718),\n",
       " (u'males', 0.6567750573158264),\n",
       " (u'sex', 0.6331608295440674),\n",
       " (u'women', 0.6308697462081909),\n",
       " (u'females', 0.6281332969665527),\n",
       " (u'woman', 0.6130436062812805),\n",
       " (u'offspring', 0.6121788024902344),\n",
       " (u'sexual', 0.6034080982208252)]"
      ]
     },
     "execution_count": 129,
     "metadata": {},
     "output_type": "execute_result"
    }
   ],
   "source": [
    "client.similar_by_vector(_np_normalize(embeddings['male'])-np.dot(np.dot(w,w.T),_np_normalize(embeddings['male'])))"
   ]
  },
  {
   "cell_type": "code",
   "execution_count": 137,
   "metadata": {},
   "outputs": [],
   "source": [
    "words= filter(lambda x: x.lower() in embeddings,names)"
   ]
  },
  {
   "cell_type": "code",
   "execution_count": 138,
   "metadata": {
    "scrolled": true
   },
   "outputs": [
    {
     "name": "stdout",
     "output_type": "stream",
     "text": [
      "summed toxity polarity:  2.2352436\n"
     ]
    },
    {
     "data": {
      "image/png": "[encoded data removed]",
      "text/plain": [
       "<Figure size 432x288 with 1 Axes>"
      ]
     },
     "metadata": {},
     "output_type": "display_data"
    }
   ],
   "source": [
    "%matplotlib inline\n",
    "\n",
    "df1 = pd.DataFrame(data={\"Identity Terms\": list(words)})\n",
    "df1[\"sentiment polarity\"] = df1[\"Identity Terms\"].map(\n",
    "        lambda a: (_np_normalize(embeddings[a.lower()]).dot(vec)))\n",
    "df1.sort_values(by=\"sentiment polarity\", inplace=True)\n",
    "# fig = plt.figure() \n",
    "# fig.set_size_inches(18.5, 10.5)\n",
    "fig = df1.plot.bar(legend = False, ylim= (-.75,.75),x=\"Identity Terms\",y=\"sentiment polarity\",fontsize=10, color = 'blue',colormap='Paired')\n",
    "plt.xlabel('Identity Terms', fontsize=14)\n",
    "plt.ylabel('Sentiment Polarity', fontsize=14)\n",
    "plt.title(\"Sentiment Polarity for AA and E Names\",fontsize= 15)\n",
    "a=map(lambda a: (_np_normalize(embeddings[a.lower()])).dot(vec),words)\n",
    "print \"summed toxity polarity: \", np.sum(np.abs(np.array(a)))\n",
    "plt.draw()\n",
    "fig.get_figure().savefig('/home/csweeney/Downloads/1n.png', format='png',dpi=300,bbox_inches='tight')\n"
   ]
  },
  {
   "cell_type": "code",
   "execution_count": 139,
   "metadata": {},
   "outputs": [],
   "source": [
    "words= df1[\"Identity Terms\"].values"
   ]
  },
  {
   "cell_type": "code",
   "execution_count": 140,
   "metadata": {},
   "outputs": [
    {
     "name": "stdout",
     "output_type": "stream",
     "text": [
      "summed toxity polarity:  1.0473378\n"
     ]
    },
    {
     "data": {
      "image/png": "[encoded data removed]",
      "text/plain": [
       "<Figure size 432x288 with 1 Axes>"
      ]
     },
     "metadata": {},
     "output_type": "display_data"
    }
   ],
   "source": [
    "%matplotlib inline\n",
    "df = pd.DataFrame(data={\"Identity Terms\": list(words)})\n",
    "df[\"sentiment polarity\"] = df[\"Identity Terms\"].map(\n",
    "        lambda a: (_np_normalize(embeddings[a.lower()])-(np.dot(np.dot(w,w.T),_np_normalize(embeddings[a.lower()])))).dot(vec))\n",
    "#     df.sort_values(by=\"sentiment polarity\", inplace=True)\n",
    "# plt.figure()\n",
    "fig = df.plot.bar(legend = False, ylim= (-.75,.75),x=\"Identity Terms\",y=\"sentiment polarity\",fontsize=10,color='blue', colormap='Paired')\n",
    "plt.xlabel('Identity Terms', fontsize=14)\n",
    "plt.ylabel('Sentiment Polarity', fontsize=14)\n",
    "plt.title(\"Debiased Sentiment Polarity for AA and E Names\",fontsize= 15)\n",
    "a=map(lambda a: (_np_normalize(embeddings[a.lower()])-(np.dot(np.dot(w,w.T),_np_normalize(embeddings[a.lower()])))).dot(vec),words)\n",
    "print \"summed toxity polarity: \", np.sum(np.abs(np.array(a)))\n",
    "plt.draw()\n",
    "fig.get_figure().savefig('/home/csweeney/Downloads/2n.png', format='png',dpi=300,bbox_inches='tight')\n"
   ]
  },
  {
   "cell_type": "code",
   "execution_count": 134,
   "metadata": {},
   "outputs": [
    {
     "data": {
      "text/plain": [
       "(-0.6, 0.6)"
      ]
     },
     "execution_count": 134,
     "metadata": {},
     "output_type": "execute_result"
    },
    {
     "data": {
      "image/png": "[encoded data removed]",
      "text/plain": [
       "<Figure size 432x288 with 1 Axes>"
      ]
     },
     "metadata": {},
     "output_type": "display_data"
    }
   ],
   "source": [
    "plt.figure()\n",
    "plt.xlabel('Identity Terms', fontsize=9)\n",
    "plt.ylabel('sentiment delta', fontsize=14)\n",
    "plt.title(\"Sentiment Polarity Delta after Debiasing\",fontsize= 15)\n",
    "index = np.arange(len(words))\n",
    "delta = df[\"sentiment polarity\"].values-df1[\"sentiment polarity\"].values\n",
    "bar = plt.bar(index,delta,width=.5)\n",
    "for i,j in enumerate(delta):\n",
    "    bar[i].set_color('r') if j<0 else bar[i].set_color('g')\n",
    "plt.xticks(index, words, fontsize=12, rotation=90)\n",
    "plt.ylim(top=.6,bottom=-.6)"
   ]
  },
  {
   "cell_type": "code",
   "execution_count": 135,
   "metadata": {},
   "outputs": [
    {
     "data": {
      "image/png": "[encoded data removed]",
      "text/plain": [
       "<Figure size 432x288 with 1 Axes>"
      ]
     },
     "metadata": {},
     "output_type": "display_data"
    }
   ],
   "source": [
    "fig = plt.figure()\n",
    "plt.xlabel('Identity Terms', fontsize=14)\n",
    "plt.ylabel('Relative Decrease', fontsize=14)\n",
    "plt.title(\"Relative Decrease in Sentiment Polarity\",fontsize= 15)\n",
    "index = np.arange(len(words))\n",
    "delta = np.abs(df1[\"sentiment polarity\"].values)-np.abs(df[\"sentiment polarity\"].values)\n",
    "plt.bar(index,delta/np.abs(df1[\"sentiment polarity\"].values),width=.5)\n",
    "# plt.bar(index,df[\"sentiment polarity\"].values,width=.5)\n",
    "# for i,j in enumerate(delta):\n",
    "#     bar[i].set_color('r') if j<0 else bar[i].set_color('g')\n",
    "plt.xticks(index, words, fontsize=10, rotation=90)\n",
    "plt.ylim(top=1,bottom=0)\n",
    "fig.savefig('/home/csweeney/Downloads/gender_rebiased.png', format='png',dpi=300,bbox_inches='tight')\n"
   ]
  },
  {
   "cell_type": "code",
   "execution_count": 136,
   "metadata": {},
   "outputs": [
    {
     "data": {
      "text/plain": [
       "-0.29989783903572165"
      ]
     },
     "execution_count": 136,
     "metadata": {},
     "output_type": "execute_result"
    }
   ],
   "source": [
    "np.sum(delta/np.abs(df1[\"sentiment polarity\"].values))/len(delta)"
   ]
  },
  {
   "cell_type": "markdown",
   "metadata": {},
   "source": [
    "## test analogy accruacy on debiased word embeddings"
   ]
  },
  {
   "cell_type": "code",
   "execution_count": 70,
   "metadata": {},
   "outputs": [
    {
     "name": "stdout",
     "output_type": "stream",
     "text": [
      "0.1\n",
      "0.2\n",
      "0.3\n",
      "0.4\n",
      "0.5\n",
      "0.6\n",
      "0.7\n",
      "0.8\n",
      "0.9\n",
      "1.0\n"
     ]
    },
    {
     "data": {
      "text/plain": [
       "0.21"
      ]
     },
     "execution_count": 70,
     "metadata": {},
     "output_type": "execute_result"
    }
   ],
   "source": [
    "(X,y,l) = load_vectors_test(embeddings,analogies)\n",
    "analogy_accuracy(X,l,embeddings,n = 1,samples=100,model=lambda x :(x-(np.dot(np.dot(w,w.T),x))))"
   ]
  }
 ],
 "metadata": {
  "colab": {
   "collapsed_sections": [
    "JndnmDMp66FL"
   ],
   "name": "Mitigating Unwanted Biases in Word Embeddings with Adversarial Learning.ipynb",
   "provenance": [],
   "toc_visible": true,
   "version": "0.3.2"
  },
  "kernelspec": {
   "display_name": "Python 2",
   "language": "python",
   "name": "python2"
  },
  "language_info": {
   "codemirror_mode": {
    "name": "ipython",
    "version": 2
   },
   "file_extension": ".py",
   "mimetype": "text/x-python",
   "name": "python",
   "nbconvert_exporter": "python",
   "pygments_lexer": "ipython2",
   "version": "2.7.15rc1"
  }
 },
 "nbformat": 4,
 "nbformat_minor": 1
}
