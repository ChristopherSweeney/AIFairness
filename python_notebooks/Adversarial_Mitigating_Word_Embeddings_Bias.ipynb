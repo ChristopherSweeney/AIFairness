{
 "cells": [
  {
   "cell_type": "code",
   "execution_count": 1,
   "metadata": {},
   "outputs": [],
   "source": [
    "# !pip install --upgrade-strategy=only-if-needed tensorflow~=1.6.0rc0\n",
    "# !pip install -U gensim~=3.2.0"
   ]
  },
  {
   "cell_type": "code",
   "execution_count": 2,
   "metadata": {
    "colab": {
     "base_uri": "https://localhost:8080/",
     "height": 1322
    },
    "colab_type": "code",
    "id": "gOrI3fGc87cz",
    "outputId": "43769798-0a70-4e65-b8a2-2d6cf531d2fd"
   },
   "outputs": [
    {
     "name": "stderr",
     "output_type": "stream",
     "text": [
      "Using TensorFlow backend.\n"
     ]
    },
    {
     "name": "stdout",
     "output_type": "stream",
     "text": [
      "HELLO from model_tool\n"
     ]
    }
   ],
   "source": [
    "import gensim\n",
    "import gzip\n",
    "import numpy as np\n",
    "import os\n",
    "import pandas as pd\n",
    "import tensorflow as tf\n",
    "from gensim.test.utils import common_texts, get_tmpfile\n",
    "from model_tool import ToxModel\n",
    "execfile(\"./FairAI.py\")"
   ]
  },
  {
   "cell_type": "markdown",
   "metadata": {},
   "source": [
    "# Load word2vec embedding model"
   ]
  },
  {
   "cell_type": "code",
   "execution_count": 3,
   "metadata": {
    "colab": {
     "base_uri": "https://localhost:8080/",
     "height": 243
    },
    "colab_type": "code",
    "id": "F_B4Madl_5xp",
    "outputId": "f6bebc8a-9b9f-4d47-ed76-71587e99dd9d"
   },
   "outputs": [
    {
     "name": "stdout",
     "output_type": "stream",
     "text": [
      "Loading word embeddings from ../data/embeddings/GoogleNews-vectors-negative300.bin.gz\n",
      "vector_size =  300\n",
      "Loading 2000000 embeddings\n",
      "('duplicate words detected, shrinking matrix size from %i to %i', 3000000, 2000000)\n",
      "('loaded %s matrix', (2000000, 300))\n"
     ]
    }
   ],
   "source": [
    "local_dir_name = '../data'\n",
    "WORD2VEC_FILE = os.path.join(local_dir_name+\"/embeddings\", \"GoogleNews-vectors-negative300.bin.gz\")\n",
    "ANALOGIES_FILE = os.path.join(local_dir_name, \"questions-words.txt\")\n",
    "if not 'client' in vars():\n",
    "  print \"Loading word embeddings from %s\" % WORD2VEC_FILE\n",
    "  with gzip.GzipFile(fileobj=open(WORD2VEC_FILE, 'r')) as f:\n",
    "    client = load_word2vec_format(f, max_num_words=2000000)\n",
    "embeddings = client"
   ]
  },
  {
   "cell_type": "markdown",
   "metadata": {},
   "source": [
    "# Load GloVe embedding model"
   ]
  },
  {
   "cell_type": "code",
   "execution_count": 43,
   "metadata": {},
   "outputs": [],
   "source": [
    "from gensim.scripts.glove2word2vec import glove2word2vec\n",
    "glove_input_file = '../data/embeddings/glove.6B/glove.6B.100d.txt'\n",
    "word2vec_output_file = '../data/embeddings/glove.6B/glove.6B.100d.txt.word2vec'\n",
    "glove2word2vec(glove_input_file, word2vec_output_file)\n",
    "embeddings = gensim.models.KeyedVectors.load_word2vec_format(word2vec_output_file,binary=False)\n",
    "client = embeddings"
   ]
  },
  {
   "cell_type": "markdown",
   "metadata": {},
   "source": [
    "## Are there harmful anaolgies with repsect to negative sentiment?"
   ]
  },
  {
   "cell_type": "code",
   "execution_count": 44,
   "metadata": {
    "colab": {
     "base_uri": "https://localhost:8080/",
     "height": 121
    },
    "colab_type": "code",
    "id": "6rEfwqtDIt0Q",
    "outputId": "48205f75-b9a3-49ad-8e42-8c41e20be3f2"
   },
   "outputs": [
    {
     "name": "stdout",
     "output_type": "stream",
     "text": [
      "5 closest neighbors to A-B+C:\n",
      "smart : score=0.738307\n",
      "intelligent : score=0.636954\n",
      "guy : score=0.587287\n",
      "kind : score=0.565124\n",
      "`` : score=0.561920\n"
     ]
    }
   ],
   "source": [
    "A = \"asian\"\n",
    "B = \"american\"\n",
    "C = \"smart\"\n",
    "NUM_ANALOGIES = 5\n",
    "\n",
    "in_arr = []\n",
    "for i, word in enumerate((A, B, C)):\n",
    "  in_arr.append(client.word_vec(word))\n",
    "in_arr = np.array([in_arr])\n",
    "\n",
    "print_knn(client, -in_arr[0, 0, :] + in_arr[0, 1, :] + in_arr[0, 2, :],\n",
    "          NUM_ANALOGIES)"
   ]
  },
  {
   "cell_type": "code",
   "execution_count": 45,
   "metadata": {
    "colab": {
     "base_uri": "https://localhost:8080/",
     "height": 121
    },
    "colab_type": "code",
    "id": "2RtfKMshE0gy",
    "outputId": "c806fe01-7bc4-4252-d7d2-3edc2b73f336"
   },
   "outputs": [
    {
     "name": "stdout",
     "output_type": "stream",
     "text": [
      "loaded 19544 analogies\n",
      "write is to writes as increase is to increases\n",
      "write is to writes as listen is to listens\n",
      "write is to writes as play is to plays\n",
      "write is to writes as predict is to predicts\n",
      "write is to writes as provide is to provides\n",
      "write is to writes as say is to says\n",
      "write is to writes as scream is to screams\n",
      "write is to writes as search is to searches\n",
      "write is to writes as see is to sees\n",
      "write is to writes as shuffle is to shuffles\n",
      "write is to writes as sing is to sings\n",
      "write is to writes as sit is to sits\n",
      "write is to writes as slow is to slows\n",
      "write is to writes as speak is to speaks\n",
      "write is to writes as swim is to swims\n",
      "write is to writes as talk is to talks\n",
      "write is to writes as think is to thinks\n",
      "write is to writes as vanish is to vanishes\n",
      "write is to writes as walk is to walks\n",
      "write is to writes as work is to works\n"
     ]
    }
   ],
   "source": [
    "analogies = load_analogies(ANALOGIES_FILE)\n",
    "print \"\\n\".join(\"%s is to %s as %s is to %s\" % tuple(x) for x in analogies[-20:])"
   ]
  },
  {
   "cell_type": "markdown",
   "metadata": {},
   "source": [
    "# Create directional sentiment word vector"
   ]
  },
  {
   "cell_type": "code",
   "execution_count": 46,
   "metadata": {},
   "outputs": [],
   "source": [
    "pos_words = load_lexicon(\"../data/opinion_lexicon/positive-words.txt\")\n",
    "neg_words = load_lexicon(\"../data/opinion_lexicon/negative-words.txt\")\n",
    "pos_words_fil = filter(lambda x:  x in embeddings,map(lambda x: x,pos_words))\n",
    "neg_words_fil = filter(lambda x:  x in embeddings,map(lambda x: x,neg_words))\n",
    "pos_vectors = embeddings[pos_words_fil]\n",
    "neg_vectors = embeddings[neg_words_fil]\n",
    "vectors = np.concatenate([pos_vectors, neg_vectors])\n",
    "targets = np.array([0 for entry in pos_vectors] + [1 for entry in neg_vectors])\n",
    "train_vectors, test_vectors, train_targets, test_targets = train_test_split(vectors, targets, test_size=0.1, random_state=0)\n",
    "\n",
    "words_in_embeddings = []\n",
    "for i,j in enumerate(pos_words+neg_words):\n",
    "    if j.lower() in embeddings:\n",
    "        words_in_embeddings.append(j)"
   ]
  },
  {
   "cell_type": "code",
   "execution_count": 47,
   "metadata": {},
   "outputs": [
    {
     "data": {
      "text/plain": [
       "0.8990384615384616"
      ]
     },
     "execution_count": 47,
     "metadata": {},
     "output_type": "execute_result"
    }
   ],
   "source": [
    "from sklearn.linear_model import LogisticRegression\n",
    "clf = LogisticRegression(random_state=0, solver='lbfgs',\n",
    "                         multi_class='multinomial').fit(train_vectors,train_targets)\n",
    "clf.score(test_vectors,test_targets)"
   ]
  },
  {
   "cell_type": "markdown",
   "metadata": {},
   "source": [
    "# Create sentiment subspaces via Bolukbasi et al. 2016"
   ]
  },
  {
   "cell_type": "code",
   "execution_count": 48,
   "metadata": {},
   "outputs": [
    {
     "data": {
      "text/plain": [
       "<BarContainer object of 100 artists>"
      ]
     },
     "execution_count": 48,
     "metadata": {},
     "output_type": "execute_result"
    },
    {
     "data": {
      "image/png": "[encoded data removed]",
      "text/plain": [
       "<Figure size 432x288 with 1 Axes>"
      ]
     },
     "metadata": {},
     "output_type": "display_data"
    }
   ],
   "source": [
    "%matplotlib inline\n",
    "\n",
    "import nltk \n",
    "from nltk.corpus import wordnet \n",
    "good = []\n",
    "bad=  []\n",
    "\n",
    "for word in pos_words:\n",
    "    a = wordnet.synsets(word)\n",
    "    if len(a)>0:\n",
    "        syn = a[0] .lemmas()[0]\n",
    "        if len(syn.antonyms())>0:\n",
    "            good.append(word)\n",
    "            bad.append(syn.antonyms()[0].name()) \n",
    "            \n",
    "good_vectors=[]\n",
    "bad_vectors = []\n",
    "# good = ['good','beautiful','happy','positive','compentent','smart','interesting','pleasant','best','honest','wealthy','wonderful']\n",
    "# bad = ['bad','ugly','sad','negative','incompetent','dumb','boring','horrible','worst','corrupt','poor','awful']\n",
    "# good = ['amazing']\n",
    "# bad = ['horrible']\n",
    "choices = np.random.choice(len(good),20)\n",
    "for i,j in zip(good,bad):\n",
    "    if i in embeddings and j in embeddings:\n",
    "        good_vectors.append(_np_normalize(embeddings[i]))\n",
    "        bad_vectors.append(_np_normalize(embeddings[j]))\n",
    "\n",
    "good_vectors = np.array(good_vectors)\n",
    "bad_vectors = np.array(bad_vectors)\n",
    "X = good_vectors-bad_vectors\n",
    "m = np.dot(X.T,X)\n",
    "evals, evecs = np.linalg.eig(m)\n",
    "vec = _np_normalize(np.real(evecs[:, np.argmax(evals)]))\n",
    "plt.bar(np.arange(100),evals[:100])"
   ]
  },
  {
   "cell_type": "markdown",
   "metadata": {},
   "source": [
    "## create sentiment subspace via our method"
   ]
  },
  {
   "cell_type": "code",
   "execution_count": 49,
   "metadata": {},
   "outputs": [
    {
     "data": {
      "image/png": "[encoded data removed]",
      "text/plain": [
       "<Figure size 432x288 with 1 Axes>"
      ]
     },
     "metadata": {},
     "output_type": "display_data"
    }
   ],
   "source": [
    "pos_vectors1=pos_vectors[np.random.choice(len(pos_vectors),len(pos_vectors))]\n",
    "m=np.dot(pos_vectors1.T,pos_vectors1)\n",
    "evals_p, evecs_p = np.linalg.eig(m)\n",
    "vec_pos = _np_normalize(np.real(evecs_p[:, np.argmax(evals_p)]))\n",
    "fig = plt.figure()\n",
    "plt.bar(np.arange(30),evals_p[:30])\n",
    "fig.savefig('/home/csweeney/Downloads/glove_pos_s.png', format='png',dpi=300,bbox_inches='tight')"
   ]
  },
  {
   "cell_type": "code",
   "execution_count": 50,
   "metadata": {},
   "outputs": [],
   "source": [
    "neg_vectors1=neg_vectors[np.random.choice(len(pos_vectors1),len(pos_vectors1))]"
   ]
  },
  {
   "cell_type": "code",
   "execution_count": 51,
   "metadata": {},
   "outputs": [
    {
     "data": {
      "image/png": "[encoded data removed]",
      "text/plain": [
       "<Figure size 432x288 with 1 Axes>"
      ]
     },
     "metadata": {},
     "output_type": "display_data"
    }
   ],
   "source": [
    "m=np.dot(neg_vectors1.T,neg_vectors1)\n",
    "evals, evecs = np.linalg.eig(m)\n",
    "vec_neg = _np_normalize(np.real(evecs[:, np.argmax(evals)]))\n",
    "plt.figure()\n",
    "plt.bar(np.arange(30),evals[:30])\n",
    "fig.savefig('/home/csweeney/Downloads/glove_neg_s.png', format='png',dpi=300,bbox_inches='tight')"
   ]
  },
  {
   "cell_type": "code",
   "execution_count": 71,
   "metadata": {},
   "outputs": [],
   "source": [
    "##get direcitonal sentiment vector\n",
    "# vec=vec_pos-vec_neg\n",
    "vec=(vec_pos-vec_neg)"
   ]
  },
  {
   "cell_type": "code",
   "execution_count": 72,
   "metadata": {},
   "outputs": [],
   "source": [
    "vec = _np_normalize(vec)"
   ]
  },
  {
   "cell_type": "code",
   "execution_count": 74,
   "metadata": {},
   "outputs": [
    {
     "name": "stdout",
     "output_type": "stream",
     "text": [
      "-0.19583324\n",
      "0.019486694\n"
     ]
    }
   ],
   "source": [
    "p_1 = _np_normalize(evecs_p-evecs)\n",
    "print np.dot(_np_normalize(embeddings[\"horrible\"]),vec)\n",
    "print np.dot(np.dot(_np_normalize(embeddings[\"horrible\"]),p_1),vec)"
   ]
  },
  {
   "cell_type": "markdown",
   "metadata": {},
   "source": [
    "## Or load in the vector from the paper"
   ]
  },
  {
   "cell_type": "code",
   "execution_count": 7,
   "metadata": {},
   "outputs": [],
   "source": [
    "#optionally read weights\n",
    "# import pickle\n",
    "# vec= np.array([])\n",
    "# with open('./best_toxic_vector.pkl', \"rb\") as openfile:\n",
    "#     while True:\n",
    "#         try:\n",
    "#             vec = pickle.load(openfile)\n",
    "#         except EOFError:\n",
    "#             break"
   ]
  },
  {
   "cell_type": "markdown",
   "metadata": {},
   "source": [
    "## how does the sign of projection correlate with positive/negative labels"
   ]
  },
  {
   "cell_type": "code",
   "execution_count": 121,
   "metadata": {},
   "outputs": [
    {
     "name": "stdout",
     "output_type": "stream",
     "text": [
      "-0.19016138\n"
     ]
    }
   ],
   "source": [
    "#sanity check\n",
    "WORD = \"horrible\"\n",
    "word_vec = _np_normalize(client.word_vec(WORD))\n",
    "print vec.dot(word_vec.T)"
   ]
  },
  {
   "cell_type": "code",
   "execution_count": 122,
   "metadata": {},
   "outputs": [
    {
     "name": "stdout",
     "output_type": "stream",
     "text": [
      "0.851691518358\n"
     ]
    }
   ],
   "source": [
    "count = 0 \n",
    "for i,j in zip(vectors,(targets*2-1)*-1):\n",
    "    if int(np.sign(i.dot(vec))) == j:\n",
    "        count+=1\n",
    "print count/float(len(targets))"
   ]
  },
  {
   "cell_type": "code",
   "execution_count": 58,
   "metadata": {},
   "outputs": [
    {
     "name": "stdout",
     "output_type": "stream",
     "text": [
      "WARNING:tensorflow:From /usr/local/lib/python2.7/dist-packages/keras/backend/tensorflow_backend.py:1259: calling reduce_prod (from tensorflow.python.ops.math_ops) with keep_dims is deprecated and will be removed in a future version.\n",
      "Instructions for updating:\n",
      "keep_dims is deprecated, use keepdims instead\n",
      "WARNING:tensorflow:From /usr/local/lib/python2.7/dist-packages/keras/backend/tensorflow_backend.py:2880: calling reduce_sum (from tensorflow.python.ops.math_ops) with keep_dims is deprecated and will be removed in a future version.\n",
      "Instructions for updating:\n",
      "keep_dims is deprecated, use keepdims instead\n",
      "WARNING:tensorflow:From /usr/local/lib/python2.7/dist-packages/keras/backend/tensorflow_backend.py:1344: calling reduce_mean (from tensorflow.python.ops.math_ops) with keep_dims is deprecated and will be removed in a future version.\n",
      "Instructions for updating:\n",
      "keep_dims is deprecated, use keepdims instead\n",
      "Hyperparameters\n",
      "---------------\n",
      "max_num_words: 10000\n",
      "dropout_rate: 0.3\n",
      "verbose: True\n",
      "cnn_pooling_sizes: [5, 5, 40]\n",
      "es_min_delta: 0\n",
      "learning_rate: 5e-05\n",
      "embedding_dim: 100\n",
      "cnn_kernel_sizes: [5, 5, 5]\n",
      "es_patience: 1\n",
      "epochs: 4\n",
      "cnn_filter_sizes: [128, 128, 128]\n",
      "batch_size: 128\n",
      "model_name: wiki_debias_cnn_v3_109\n",
      "max_sequence_length: 250\n",
      "stop_early: True\n",
      "embedding_trainable: False\n",
      "\n"
     ]
    }
   ],
   "source": [
    "MODEL_DIR = '../models/'\n",
    "debias_model_name = 'wiki_debias_cnn_v3_{}'.format(109)\n",
    "debias_model = ToxModel(debias_model_name,model_dir=MODEL_DIR)"
   ]
  },
  {
   "cell_type": "code",
   "execution_count": 59,
   "metadata": {},
   "outputs": [
    {
     "name": "stdout",
     "output_type": "stream",
     "text": [
      "0.966502619463\n"
     ]
    }
   ],
   "source": [
    "count = 0 \n",
    "threshold = .5\n",
    "for  index, (i,j) in enumerate(zip(vectors,(targets*2-1)*-1)):\n",
    "    if (int(np.sign(i.dot(vec)))+1)/2 == (debias_model.predict([words_in_embeddings[index]])>=threshold):\n",
    "        count+=1\n",
    "print count/float(len(targets))"
   ]
  },
  {
   "cell_type": "code",
   "execution_count": 407,
   "metadata": {},
   "outputs": [],
   "source": [
    "#save weights\n",
    "# import pickle\n",
    "# with open('glove_vec_new_s.pkl', 'wb') as f:\n",
    "#     pickle.dump(vec, f)"
   ]
  },
  {
   "cell_type": "markdown",
   "metadata": {},
   "source": [
    "## define set of identity terms"
   ]
  },
  {
   "cell_type": "code",
   "execution_count": 58,
   "metadata": {},
   "outputs": [],
   "source": [
    "identities = ['lesbian', 'gay', 'bisexual', 'transgender', 'trans', 'queer', \n",
    "              'lgbt', 'lgbtq', 'homosexual', 'straight', 'heterosexual', 'male', \n",
    "              'female', 'nonbinary', 'african', 'african american', 'black', 'white', \n",
    "              'european', 'hispanic', 'latino', 'latina', 'latinx', 'mexican', 'canadian', \n",
    "              'american', 'asian', 'indian', 'middle eastern', 'chinese', 'japanese', \n",
    "              'christian', 'muslim', 'jewish', 'buddhist', 'catholic', 'protestant', 'sikh', \n",
    "              'taoist', 'old', 'older', 'young', 'younger', 'teenage', 'millenial', 'middle aged', \n",
    "              'elderly', 'blind', 'deaf', 'paralyzed']\n",
    "identities = filter(lambda x: x in embeddings,identities)\n",
    "nationalities=[\n",
    "'German',\n",
    "'African_American',\n",
    "'Mexican',\n",
    "'Irish',\n",
    "'English',\n",
    "'American',\n",
    "'Italian',\n",
    "'Polish',\n",
    "'French',\n",
    "'Scottish',\n",
    "'Puerto_Rican',\n",
    "'Norwegian',\n",
    "'Dutch',\n",
    "'Swedish',\n",
    "'Chinese',\n",
    "'Indian',\n",
    "'Russian',\n",
    "'Filipino'\n",
    "]\n",
    "nationalities = filter(lambda x: x.lower() in embeddings,nationalities)\n",
    "\n",
    "religions =[ \n",
    "    'Zionist',\n",
    "    'Catholic',\n",
    "    'Christian',\n",
    "    'Islamic',\n",
    "    'Protestant',\n",
    "#     'Taoist',\n",
    "    'Atheist',\n",
    "    'Hindu',\n",
    "    'Buddhist',\n",
    "#     'Diasporic',\n",
    "    'Sikh',\n",
    "#     'Juche',\n",
    "    'Jewish',\n",
    "#     'Bahai',\n",
    "#     'Jains',\n",
    "#     'Shinto',\n",
    "#     'Pagan'\n",
    "]\n",
    "names = [\"Ebony\",\"Alonzo\",\"Amanda\",\"Adam\",\"Jasmine\",\"Alphonse\",\"Betsy\",\"Alan\",\"Lakisha\",\"Darnell\",\"Courtney\",\"Andrew\",\"Latisha\",\"Jamel\",\"Ellen\",\"Frank\",\"Latoya\",\"Jerome\",\"Heather\",\"Harry\",\"Nichelle\",\"Lamar\",\"Katie\",\"Jack\",\"Shaniqua\",\"Leroy\",\"Kristin\",\"Josh\",\"Shereen\",\"Malik\",\"Melanie\",\"Justin\",\"Tanisha\",\"Terrence\",\"Nancy\",\"Roger\",\"Tia\",\"Torrance\",\"Stephanie\",\"Ryan\"]\n",
    "names = filter(lambda x: x.lower() in embeddings,names)\n",
    "gender = [\"she\",\"her\",\"he\",\"him\", \"woman\",\"man\",\" girl\",\"boy\",\"sister\",\"brother\",\"daughter\",\"son\",\"wife\",\"husband\",\"girlfriend\",\"boyfriend\",\"mother\",\"father\", \"aunt\",\"uncle\",\"mommy\",\"dad\"]"
   ]
  },
  {
   "cell_type": "code",
   "execution_count": 59,
   "metadata": {},
   "outputs": [
    {
     "name": "stdout",
     "output_type": "stream",
     "text": [
      "         word  sentiment_score\n",
      "5     Atheist        -0.137287\n",
      "0     Zionist        -0.135042\n",
      "8        Sikh        -0.066433\n",
      "6       Hindu        -0.025808\n",
      "4  Protestant        -0.000998\n",
      "3     Islamic         0.072467\n",
      "9      Jewish         0.095346\n",
      "1    Catholic         0.113176\n",
      "7    Buddhist         0.149049\n",
      "2   Christian         0.221858\n"
     ]
    }
   ],
   "source": [
    "words = filter(lambda x: x.lower() in embeddings,religions)\n",
    "df = pd.DataFrame(data={\"word\": list(words)})\n",
    "df[\"sentiment_score\"] = df[\"word\"].map(\n",
    "    lambda w: _np_normalize(embeddings[w.lower()]).dot(vec))\n",
    "df.sort_values(by=\"sentiment_score\", inplace=True)\n",
    "print df"
   ]
  },
  {
   "cell_type": "code",
   "execution_count": 60,
   "metadata": {
    "colab": {},
    "colab_type": "code",
    "id": "7tsGeQLKT3ZY"
   },
   "outputs": [
    {
     "name": "stdout",
     "output_type": "stream",
     "text": [
      " training on 400000 word vectors\n"
     ]
    }
   ],
   "source": [
    "tf.reset_default_graph()\n",
    "labels  = embeddings.syn0norm\n",
    "protect=[]\n",
    "for i in labels:\n",
    "    protect.append(_np_normalize(i).dot(vec))\n",
    "protect = np.expand_dims(np.array(protect),1)\n",
    "print(\" training on %s word vectors\" % (np.shape(protect)[0]))"
   ]
  },
  {
   "cell_type": "code",
   "execution_count": 61,
   "metadata": {},
   "outputs": [],
   "source": [
    "#bookeeping\n",
    "w_h=[]\n",
    "weights = [.5,1,2,4,8,16]\n",
    "pairs = []\n",
    "unbiased=[]"
   ]
  },
  {
   "cell_type": "code",
   "execution_count": 125,
   "metadata": {
    "colab": {
     "base_uri": "https://localhost:8080/",
     "height": 364
    },
    "colab_type": "code",
    "id": "GhOH62wAR-wz",
    "outputId": "87269f8a-1152-4eec-a16e-9a4190074588",
    "scrolled": true
   },
   "outputs": [
    {
     "name": "stdout",
     "output_type": "stream",
     "text": [
      "weights 0.5\n",
      "step: 0; pred_loss_o: 0.000372; protect_loss_o: 0.028099\n",
      "proj_o: 1.444686; dot(proj_o, adv_direction): 0.111521)\n",
      "step: 1000; pred_loss_o: 0.000479; protect_loss_o: 0.024149\n",
      "proj_o: 1.462235; dot(proj_o, adv_direction): 0.156397)\n",
      "step: 2000; pred_loss_o: 0.000659; protect_loss_o: 0.022457\n",
      "proj_o: 1.493216; dot(proj_o, adv_direction): 0.207968)\n",
      "step: 3000; pred_loss_o: 0.000916; protect_loss_o: 0.021698\n",
      "proj_o: 1.535168; dot(proj_o, adv_direction): 0.261263)\n",
      "step: 4000; pred_loss_o: 0.001246; protect_loss_o: 0.021081\n",
      "proj_o: 1.583560; dot(proj_o, adv_direction): 0.312167)\n",
      "step: 5000; pred_loss_o: 0.001618; protect_loss_o: 0.020183\n",
      "proj_o: 1.630969; dot(proj_o, adv_direction): 0.359335)\n",
      "step: 6000; pred_loss_o: 0.001962; protect_loss_o: 0.018887\n",
      "proj_o: 1.669477; dot(proj_o, adv_direction): 0.401329)\n",
      "step: 7000; pred_loss_o: 0.002189; protect_loss_o: 0.017277\n",
      "proj_o: 1.691283; dot(proj_o, adv_direction): 0.437148)\n",
      "step: 8000; pred_loss_o: 0.002295; protect_loss_o: 0.015544\n",
      "proj_o: 1.700252; dot(proj_o, adv_direction): 0.467163)\n",
      "step: 9000; pred_loss_o: 0.002320; protect_loss_o: 0.013751\n",
      "proj_o: 1.701998; dot(proj_o, adv_direction): 0.494705)\n",
      "step: 10000; pred_loss_o: 0.002226; protect_loss_o: 0.011953\n",
      "proj_o: 1.689374; dot(proj_o, adv_direction): 0.518191)\n",
      "step: 11000; pred_loss_o: 0.002014; protect_loss_o: 0.010259\n",
      "proj_o: 1.658825; dot(proj_o, adv_direction): 0.537879)\n",
      "step: 12000; pred_loss_o: 0.001723; protect_loss_o: 0.008749\n",
      "proj_o: 1.613335; dot(proj_o, adv_direction): 0.554461)\n",
      "step: 13000; pred_loss_o: 0.001403; protect_loss_o: 0.007442\n",
      "proj_o: 1.556490; dot(proj_o, adv_direction): 0.566702)\n",
      "step: 14000; pred_loss_o: 0.001101; protect_loss_o: 0.006339\n",
      "proj_o: 1.493655; dot(proj_o, adv_direction): 0.576013)\n",
      "step: 15000; pred_loss_o: 0.000856; protect_loss_o: 0.005441\n",
      "proj_o: 1.431564; dot(proj_o, adv_direction): 0.585794)\n",
      "step: 16000; pred_loss_o: 0.000676; protect_loss_o: 0.004750\n",
      "proj_o: 1.372988; dot(proj_o, adv_direction): 0.599671)\n",
      "step: 17000; pred_loss_o: 0.000548; protect_loss_o: 0.004270\n",
      "proj_o: 1.317530; dot(proj_o, adv_direction): 0.618745)\n",
      "step: 18000; pred_loss_o: 0.000452; protect_loss_o: 0.003976\n",
      "proj_o: 1.265788; dot(proj_o, adv_direction): 0.640497)\n",
      "step: 19000; pred_loss_o: 0.000375; protect_loss_o: 0.003826\n",
      "proj_o: 1.215610; dot(proj_o, adv_direction): 0.659475)\n",
      "step: 20000; pred_loss_o: 0.000314; protect_loss_o: 0.003793\n",
      "proj_o: 1.165220; dot(proj_o, adv_direction): 0.673847)\n",
      "step: 21000; pred_loss_o: 0.000268; protect_loss_o: 0.003862\n",
      "proj_o: 1.117094; dot(proj_o, adv_direction): 0.685864)\n",
      "step: 22000; pred_loss_o: 0.000241; protect_loss_o: 0.004023\n",
      "proj_o: 1.077697; dot(proj_o, adv_direction): 0.699467)\n",
      "step: 23000; pred_loss_o: 0.000233; protect_loss_o: 0.004259\n",
      "proj_o: 1.052251; dot(proj_o, adv_direction): 0.717633)\n",
      "step: 24000; pred_loss_o: 0.000239; protect_loss_o: 0.004547\n",
      "proj_o: 1.038260; dot(proj_o, adv_direction): 0.738599)\n",
      "step: 25000; pred_loss_o: 0.000251; protect_loss_o: 0.004859\n",
      "proj_o: 1.028705; dot(proj_o, adv_direction): 0.756555)\n",
      "step: 26000; pred_loss_o: 0.000269; protect_loss_o: 0.005184\n",
      "proj_o: 1.025736; dot(proj_o, adv_direction): 0.773122)\n",
      "step: 27000; pred_loss_o: 0.000293; protect_loss_o: 0.005488\n",
      "proj_o: 1.024659; dot(proj_o, adv_direction): 0.784281)\n",
      "step: 28000; pred_loss_o: 0.000323; protect_loss_o: 0.005757\n",
      "proj_o: 1.022763; dot(proj_o, adv_direction): 0.789361)\n",
      "step: 29000; pred_loss_o: 0.000360; protect_loss_o: 0.006006\n",
      "proj_o: 1.019644; dot(proj_o, adv_direction): 0.789657)\n",
      "CPU times: user 4min 51s, sys: 29 s, total: 5min 20s\n",
      "Wall time: 5min\n"
     ]
    }
   ],
   "source": [
    "%%time\n",
    "pred_learning_rate = 2**-16\n",
    "protect_learning_rate = 2**-16\n",
    "num_steps = 30000\n",
    "batch_size = 1000\n",
    "\n",
    "embed_dim = 100\n",
    "projection_dims = 1\n",
    "\n",
    "\n",
    "sess = tf.Session(config=tf.ConfigProto(log_device_placement=True))\n",
    "with tf.variable_scope('var_scope', reuse=tf.AUTO_REUSE):\n",
    "    for i in weights:\n",
    "        print \"weights\", i\n",
    "        protect_loss_weight = i\n",
    "\n",
    "        labels_p = tf.placeholder(tf.float32, shape=[None, embed_dim], name=\"labels\")\n",
    "        protect_p = tf.placeholder(tf.float32, shape=[None, 1], name=\"protect\")\n",
    "\n",
    "        # projection is the space onto which we are \"projecting\". By default, this is\n",
    "        # one-dimensional, but this can be tuned by projection_dims\n",
    "        projection = tf.get_variable(\"projection\", [embed_dim, projection_dims])\n",
    "\n",
    "        # build the prediction layer\n",
    "        pred = labels_p\n",
    "        pred -= tf.matmul(tf.matmul(pred, projection), tf.transpose(projection))\n",
    "\n",
    "        trained_model = AdversarialEmbeddingModel(\n",
    "            client, embed_dim, projection, projection_dims, pred,verbose=True)\n",
    "        trained_model.fit(sess, labels, labels_p, protect, protect_p, vec,\n",
    "                  pred_learning_rate,\n",
    "                protect_learning_rate, protect_loss_weight, num_steps, batch_size)\n",
    "        w=None\n",
    "        with sess.as_default(): w= trained_model.projection.eval()\n",
    "        w_h.append(w)"
   ]
  },
  {
   "cell_type": "code",
   "execution_count": 74,
   "metadata": {},
   "outputs": [],
   "source": [
    "#optionally read weights\n",
    "# import pickle\n",
    "# vec= np.array([])\n",
    "# with open('./glove_vec.pkl', \"rb\") as openfile:\n",
    "#     while True:\n",
    "#         try:\n",
    "#             vec = pickle.load(openfile)\n",
    "#         except EOFError:\n",
    "#             break"
   ]
  },
  {
   "cell_type": "code",
   "execution_count": 62,
   "metadata": {},
   "outputs": [],
   "source": [
    "# optionally read weights\n",
    "import pickle\n",
    "p = None\n",
    "with (open('./toxic_weights_glove.pkl', \"rb\")) as openfile:\n",
    "    while True:\n",
    "        try:\n",
    "            p=pickle.load(openfile)\n",
    "        except EOFError:\n",
    "            break\n",
    "w_h = p"
   ]
  },
  {
   "cell_type": "code",
   "execution_count": 76,
   "metadata": {},
   "outputs": [],
   "source": [
    "unbiased = []\n",
    "pairs = []"
   ]
  },
  {
   "cell_type": "code",
   "execution_count": 77,
   "metadata": {},
   "outputs": [
    {
     "name": "stdout",
     "output_type": "stream",
     "text": [
      "0.2504785\n",
      "((0.4779722504388263, 1.5037341450531693e-21), SpearmanrResult(correlation=0.4887773167672577, pvalue=1.3450116865328262e-22), 0.0)\n"
     ]
    }
   ],
   "source": [
    "for j in [names]: \n",
    "    words = j\n",
    "    a=map(lambda a: np.dot(_np_normalize(embeddings[a.lower()]),p_1).dot(vec),words)\n",
    "    s1 = np.sum(np.abs(np.array(a)))\n",
    "    print(s1)\n",
    "    unbiased.append(s1)\n",
    "    s2= evaluate_word_pairs(model=embeddings,pairs=\"../data/sim/sim.tsv\",restrict_vocab=2000000,debias=lambda x :np.dot(x,p_1))\n",
    "    print(s2)\n",
    "    pairs.append(s2)"
   ]
  },
  {
   "cell_type": "code",
   "execution_count": 78,
   "metadata": {},
   "outputs": [
    {
     "name": "stdout",
     "output_type": "stream",
     "text": [
      "4.3912334\n",
      "((0.5483502271903985, 4.2350974945224685e-29), SpearmanrResult(correlation=0.5327354323238274, pvalue=2.8654146580558905e-27), 0.0)\n",
      "3.6478548\n",
      "((0.5796940716065365, 4.453360668045598e-33), SpearmanrResult(correlation=0.5647314339535258, pvalue=3.986936561005395e-31), 0.0)\n",
      "2.4598255\n",
      "((0.5574250798066717, 3.297945514428644e-30), SpearmanrResult(correlation=0.5437897547463388, pvalue=1.483706767210628e-28), 0.0)\n",
      "3.2145596\n",
      "((0.5555256253356026, 5.663735447410089e-30), SpearmanrResult(correlation=0.541157500402292, pvalue=3.032861599813991e-28), 0.0)\n",
      "2.4161572\n",
      "((0.5650139692145327, 3.6702612011390625e-31), SpearmanrResult(correlation=0.5501812616927375, pvalue=2.546222510390923e-29), 0.0)\n",
      "3.295364\n",
      "((0.5620793878446105, 8.636541527795724e-31), SpearmanrResult(correlation=0.5487537578470386, pvalue=3.786888715322616e-29), 0.0)\n",
      "2.504259\n",
      "((0.5632979288416963, 6.0599652868188165e-31), SpearmanrResult(correlation=0.5495501044740038, pvalue=3.035409421729928e-29), 0.0)\n"
     ]
    }
   ],
   "source": [
    "for j in [names]: \n",
    "    words = j\n",
    "    a=map(lambda a: _np_normalize(embeddings[a.lower()]).dot(vec),words)\n",
    "    s1 = np.sum(np.abs(np.array(a)))\n",
    "    print(s1)\n",
    "    unbiased.append(s1)\n",
    "    s2= evaluate_word_pairs(model=embeddings,pairs=\"../data/sim/sim.tsv\",restrict_vocab=2000000,debias=lambda x :x)\n",
    "    print(s2)\n",
    "    pairs.append(s2)\n",
    "    for w in w_h:\n",
    "            a=map(lambda a: (_np_normalize(embeddings[a.lower()])-(np.dot(np.dot(w,w.T),_np_normalize(embeddings[a.lower()])))).dot(vec),words)\n",
    "            s = np.sum(np.abs(np.array(a)))\n",
    "            print(s)\n",
    "            unbiased.append(s)\n",
    "            \n",
    "            s2= evaluate_word_pairs(model=embeddings,pairs=\"../data/sim/sim.tsv\",restrict_vocab=2000000,debias=lambda x :(x-(np.dot(np.dot(w,w.T),x))))\n",
    "            print(s2)\n",
    "            pairs.append(s2)"
   ]
  },
  {
   "cell_type": "code",
   "execution_count": 80,
   "metadata": {},
   "outputs": [
    {
     "data": {
      "text/plain": [
       "(6, 8, 8)"
      ]
     },
     "execution_count": 80,
     "metadata": {},
     "output_type": "execute_result"
    }
   ],
   "source": [
    "len(weights),len(unbiased),len(pairs)"
   ]
  },
  {
   "cell_type": "code",
   "execution_count": 81,
   "metadata": {},
   "outputs": [
    {
     "data": {
      "image/png": "[encoded data removed]",
      "text/plain": [
       "<Figure size 432x288 with 1 Axes>"
      ]
     },
     "metadata": {},
     "output_type": "display_data"
    }
   ],
   "source": [
    "%matplotlib inline\n",
    "fig = plt.figure()\n",
    "plt.scatter(np.arange(len(weights)),unbiased[1:-1],color=\"red\")\n",
    "plt.xticks(np.arange(len(weights)),[0]+weights[:-1])\n",
    "plt.xlabel(\"Adversarial Weights\",fontsize=12)\n",
    "plt.ylabel(\"Summed Sentiment Polarity\",fontsize=12)\n",
    "fig.savefig('/home/csweeney/Downloads/nglove_bb1.png', format='png',dpi=300,bbox_inches='tight')\n",
    "# plt.ylim(,.8)"
   ]
  },
  {
   "cell_type": "code",
   "execution_count": 83,
   "metadata": {},
   "outputs": [
    {
     "ename": "ValueError",
     "evalue": "x and y must be the same size",
     "output_type": "error",
     "traceback": [
      "\u001b[0;31m---------------------------------------------------------------------------\u001b[0m",
      "\u001b[0;31mValueError\u001b[0m                                Traceback (most recent call last)",
      "\u001b[0;32m<ipython-input-83-b61d68529508>\u001b[0m in \u001b[0;36m<module>\u001b[0;34m()\u001b[0m\n\u001b[1;32m      1\u001b[0m \u001b[0;31m# pairs= map(lambda x:x[1][0], pairs)\u001b[0m\u001b[0;34m\u001b[0m\u001b[0;34m\u001b[0m\u001b[0m\n\u001b[1;32m      2\u001b[0m \u001b[0mfig\u001b[0m \u001b[0;34m=\u001b[0m \u001b[0mplt\u001b[0m\u001b[0;34m.\u001b[0m\u001b[0mfigure\u001b[0m\u001b[0;34m(\u001b[0m\u001b[0;34m)\u001b[0m\u001b[0;34m\u001b[0m\u001b[0m\n\u001b[0;32m----> 3\u001b[0;31m \u001b[0mplt\u001b[0m\u001b[0;34m.\u001b[0m\u001b[0mscatter\u001b[0m\u001b[0;34m(\u001b[0m\u001b[0mx\u001b[0m\u001b[0;34m=\u001b[0m\u001b[0mnp\u001b[0m\u001b[0;34m.\u001b[0m\u001b[0marange\u001b[0m\u001b[0;34m(\u001b[0m\u001b[0mlen\u001b[0m\u001b[0;34m(\u001b[0m\u001b[0mweights\u001b[0m\u001b[0;34m)\u001b[0m\u001b[0;34m)\u001b[0m\u001b[0;34m,\u001b[0m\u001b[0my\u001b[0m\u001b[0;34m=\u001b[0m\u001b[0mpairs\u001b[0m\u001b[0;34m[\u001b[0m\u001b[0;36m1\u001b[0m\u001b[0;34m:\u001b[0m\u001b[0;34m-\u001b[0m\u001b[0;36m1\u001b[0m\u001b[0;34m]\u001b[0m\u001b[0;34m)\u001b[0m\u001b[0;34m\u001b[0m\u001b[0m\n\u001b[0m\u001b[1;32m      4\u001b[0m \u001b[0mplt\u001b[0m\u001b[0;34m.\u001b[0m\u001b[0mxticks\u001b[0m\u001b[0;34m(\u001b[0m\u001b[0mnp\u001b[0m\u001b[0;34m.\u001b[0m\u001b[0marange\u001b[0m\u001b[0;34m(\u001b[0m\u001b[0mlen\u001b[0m\u001b[0;34m(\u001b[0m\u001b[0mweights\u001b[0m\u001b[0;34m)\u001b[0m\u001b[0;34m)\u001b[0m\u001b[0;34m,\u001b[0m\u001b[0;34m[\u001b[0m\u001b[0;36m0\u001b[0m\u001b[0;34m]\u001b[0m\u001b[0;34m+\u001b[0m\u001b[0mweights\u001b[0m\u001b[0;34m[\u001b[0m\u001b[0;36m1\u001b[0m\u001b[0;34m:\u001b[0m\u001b[0;34m-\u001b[0m\u001b[0;36m1\u001b[0m\u001b[0;34m]\u001b[0m\u001b[0;34m)\u001b[0m\u001b[0;34m\u001b[0m\u001b[0m\n\u001b[1;32m      5\u001b[0m \u001b[0mplt\u001b[0m\u001b[0;34m.\u001b[0m\u001b[0mxlabel\u001b[0m\u001b[0;34m(\u001b[0m\u001b[0;34m\"Adversarial Weights\"\u001b[0m\u001b[0;34m,\u001b[0m\u001b[0mfontsize\u001b[0m\u001b[0;34m=\u001b[0m\u001b[0;36m12\u001b[0m\u001b[0;34m)\u001b[0m\u001b[0;34m\u001b[0m\u001b[0m\n",
      "\u001b[0;32m/home/csweeney/.local/lib/python2.7/site-packages/matplotlib/pyplot.pyc\u001b[0m in \u001b[0;36mscatter\u001b[0;34m(x, y, s, c, marker, cmap, norm, vmin, vmax, alpha, linewidths, verts, edgecolors, hold, data, **kwargs)\u001b[0m\n\u001b[1;32m   3473\u001b[0m                          \u001b[0mvmin\u001b[0m\u001b[0;34m=\u001b[0m\u001b[0mvmin\u001b[0m\u001b[0;34m,\u001b[0m \u001b[0mvmax\u001b[0m\u001b[0;34m=\u001b[0m\u001b[0mvmax\u001b[0m\u001b[0;34m,\u001b[0m \u001b[0malpha\u001b[0m\u001b[0;34m=\u001b[0m\u001b[0malpha\u001b[0m\u001b[0;34m,\u001b[0m\u001b[0;34m\u001b[0m\u001b[0m\n\u001b[1;32m   3474\u001b[0m                          \u001b[0mlinewidths\u001b[0m\u001b[0;34m=\u001b[0m\u001b[0mlinewidths\u001b[0m\u001b[0;34m,\u001b[0m \u001b[0mverts\u001b[0m\u001b[0;34m=\u001b[0m\u001b[0mverts\u001b[0m\u001b[0;34m,\u001b[0m\u001b[0;34m\u001b[0m\u001b[0m\n\u001b[0;32m-> 3475\u001b[0;31m                          edgecolors=edgecolors, data=data, **kwargs)\n\u001b[0m\u001b[1;32m   3476\u001b[0m     \u001b[0;32mfinally\u001b[0m\u001b[0;34m:\u001b[0m\u001b[0;34m\u001b[0m\u001b[0m\n\u001b[1;32m   3477\u001b[0m         \u001b[0max\u001b[0m\u001b[0;34m.\u001b[0m\u001b[0m_hold\u001b[0m \u001b[0;34m=\u001b[0m \u001b[0mwashold\u001b[0m\u001b[0;34m\u001b[0m\u001b[0m\n",
      "\u001b[0;32m/home/csweeney/.local/lib/python2.7/site-packages/matplotlib/__init__.pyc\u001b[0m in \u001b[0;36minner\u001b[0;34m(ax, *args, **kwargs)\u001b[0m\n\u001b[1;32m   1865\u001b[0m                         \u001b[0;34m\"the Matplotlib list!)\"\u001b[0m \u001b[0;34m%\u001b[0m \u001b[0;34m(\u001b[0m\u001b[0mlabel_namer\u001b[0m\u001b[0;34m,\u001b[0m \u001b[0mfunc\u001b[0m\u001b[0;34m.\u001b[0m\u001b[0m__name__\u001b[0m\u001b[0;34m)\u001b[0m\u001b[0;34m,\u001b[0m\u001b[0;34m\u001b[0m\u001b[0m\n\u001b[1;32m   1866\u001b[0m                         RuntimeWarning, stacklevel=2)\n\u001b[0;32m-> 1867\u001b[0;31m             \u001b[0;32mreturn\u001b[0m \u001b[0mfunc\u001b[0m\u001b[0;34m(\u001b[0m\u001b[0max\u001b[0m\u001b[0;34m,\u001b[0m \u001b[0;34m*\u001b[0m\u001b[0margs\u001b[0m\u001b[0;34m,\u001b[0m \u001b[0;34m**\u001b[0m\u001b[0mkwargs\u001b[0m\u001b[0;34m)\u001b[0m\u001b[0;34m\u001b[0m\u001b[0m\n\u001b[0m\u001b[1;32m   1868\u001b[0m \u001b[0;34m\u001b[0m\u001b[0m\n\u001b[1;32m   1869\u001b[0m         inner.__doc__ = _add_data_doc(inner.__doc__,\n",
      "\u001b[0;32m/home/csweeney/.local/lib/python2.7/site-packages/matplotlib/axes/_axes.pyc\u001b[0m in \u001b[0;36mscatter\u001b[0;34m(self, x, y, s, c, marker, cmap, norm, vmin, vmax, alpha, linewidths, verts, edgecolors, **kwargs)\u001b[0m\n\u001b[1;32m   4255\u001b[0m         \u001b[0my\u001b[0m \u001b[0;34m=\u001b[0m \u001b[0mnp\u001b[0m\u001b[0;34m.\u001b[0m\u001b[0mma\u001b[0m\u001b[0;34m.\u001b[0m\u001b[0mravel\u001b[0m\u001b[0;34m(\u001b[0m\u001b[0my\u001b[0m\u001b[0;34m)\u001b[0m\u001b[0;34m\u001b[0m\u001b[0m\n\u001b[1;32m   4256\u001b[0m         \u001b[0;32mif\u001b[0m \u001b[0mx\u001b[0m\u001b[0;34m.\u001b[0m\u001b[0msize\u001b[0m \u001b[0;34m!=\u001b[0m \u001b[0my\u001b[0m\u001b[0;34m.\u001b[0m\u001b[0msize\u001b[0m\u001b[0;34m:\u001b[0m\u001b[0;34m\u001b[0m\u001b[0m\n\u001b[0;32m-> 4257\u001b[0;31m             \u001b[0;32mraise\u001b[0m \u001b[0mValueError\u001b[0m\u001b[0;34m(\u001b[0m\u001b[0;34m\"x and y must be the same size\"\u001b[0m\u001b[0;34m)\u001b[0m\u001b[0;34m\u001b[0m\u001b[0m\n\u001b[0m\u001b[1;32m   4258\u001b[0m \u001b[0;34m\u001b[0m\u001b[0m\n\u001b[1;32m   4259\u001b[0m         \u001b[0;32mif\u001b[0m \u001b[0ms\u001b[0m \u001b[0;32mis\u001b[0m \u001b[0mNone\u001b[0m\u001b[0;34m:\u001b[0m\u001b[0;34m\u001b[0m\u001b[0m\n",
      "\u001b[0;31mValueError\u001b[0m: x and y must be the same size"
     ]
    },
    {
     "data": {
      "image/png": "[encoded data removed]",
      "text/plain": [
       "<Figure size 432x288 with 1 Axes>"
      ]
     },
     "metadata": {},
     "output_type": "display_data"
    }
   ],
   "source": [
    "# pairs= map(lambda x:x[1][0], pairs)\n",
    "fig = plt.figure()\n",
    "plt.scatter(x=np.arange(len(weights)),y=pairs[1:-1])\n",
    "plt.xticks(np.arange(len(weights)),[0]+weights[1:-1])\n",
    "plt.xlabel(\"Adversarial Weights\",fontsize=12)\n",
    "plt.ylabel(\"WordSim353 Similarity Spearman Correlation\",fontsize=12)\n",
    "fig.savefig('/home/csweeney/Downloads/noglove_bb1.png', format='png',dpi=300,bbox_inches='tight')\n",
    "# plt.ylim(,.8)"
   ]
  },
  {
   "cell_type": "code",
   "execution_count": 108,
   "metadata": {},
   "outputs": [],
   "source": [
    "# #save weights\n",
    "# import pickle\n",
    "# with open('new_w2v_s.pkl', 'wb') as f:\n",
    "#     pickle.dump(w_h, f)"
   ]
  },
  {
   "cell_type": "markdown",
   "metadata": {},
   "source": [
    "## Re-embed seleceted word and save model"
   ]
  },
  {
   "cell_type": "code",
   "execution_count": 98,
   "metadata": {},
   "outputs": [],
   "source": [
    "glove_input_file = '../data/embeddings/glove.6B/glove.6B.100d.txt'\n",
    "word2vec_output_file = '../data/embeddings/glove.6B/glove.6B.100d.txt.word2vec'\n",
    "glove2word2vec(glove_input_file, word2vec_output_file)\n",
    "embeddings_debias = gensim.models.KeyedVectors.load_word2vec_format(word2vec_output_file,binary=False)"
   ]
  },
  {
   "cell_type": "code",
   "execution_count": 101,
   "metadata": {},
   "outputs": [],
   "source": [
    "w = w_h[0]\n",
    "for i in identities+names+nationalities+religions:\n",
    "    if i.lower() in embeddings_debias:\n",
    "        embeddings_debias.wv.syn0[embeddings_debias.wv.vocab[i.lower()].index] = np.dot(_np_normalize(embeddings_debias[i.lower()]),p_1)\n",
    "embeddings_debias.wv.syn0norm = None\n",
    "embeddings_debias.wv.init_sims()\n",
    "embeddings_debias.save_word2vec_format(\"../data/embeddings/glove.6B/glove_debias_toxic_projection.txt\", binary=False)"
   ]
  },
  {
   "cell_type": "code",
   "execution_count": 25,
   "metadata": {},
   "outputs": [],
   "source": [
    "# embeddings = gensim.models.KeyedVectors.load_word2vec_format('detoxified_word2vec_embeddings.txt',binary=False,limit=13000)\n",
    "#embeddings.save_word2vec_format(\"detoxified_word2vec_embeddings_light.txt\", binary=False)"
   ]
  },
  {
   "cell_type": "markdown",
   "metadata": {},
   "source": [
    "## Evaluate Word Embeddings before and after debiasing"
   ]
  },
  {
   "cell_type": "code",
   "execution_count": 126,
   "metadata": {},
   "outputs": [],
   "source": [
    "w = w_h[0]"
   ]
  },
  {
   "cell_type": "code",
   "execution_count": 85,
   "metadata": {},
   "outputs": [
    {
     "data": {
      "text/plain": [
       "[(u'male', 0.9999999403953552),\n",
       " (u'female', 0.9464976191520691),\n",
       " (u'adult', 0.7003792524337769),\n",
       " (u'women', 0.6834636330604553),\n",
       " (u'males', 0.6686494946479797),\n",
       " (u'woman', 0.6552181243896484),\n",
       " (u'young', 0.6431192755699158),\n",
       " (u'females', 0.6378622651100159),\n",
       " (u'sex', 0.6297175884246826),\n",
       " (u'child', 0.628372311592102)]"
      ]
     },
     "execution_count": 85,
     "metadata": {},
     "output_type": "execute_result"
    }
   ],
   "source": [
    "client.similar_by_vector(_np_normalize(embeddings['male']))"
   ]
  },
  {
   "cell_type": "code",
   "execution_count": 97,
   "metadata": {},
   "outputs": [
    {
     "data": {
      "text/plain": [
       "[(u'gasoil', 0.45609062910079956),\n",
       " (u'grischuk', 0.38630396127700806),\n",
       " (u'butane', 0.38014185428619385),\n",
       " (u'looted', 0.37748637795448303),\n",
       " (u'aspelin', 0.37085413932800293),\n",
       " (u'oksana', 0.36339837312698364),\n",
       " (u'vegetable', 0.3605682849884033),\n",
       " (u'.000661', 0.35985487699508667),\n",
       " (u'mergea', 0.3595915734767914),\n",
       " (u'soya', 0.3581501245498657)]"
      ]
     },
     "execution_count": 97,
     "metadata": {},
     "output_type": "execute_result"
    }
   ],
   "source": [
    "client.similar_by_vector(np.dot(_np_normalize(embeddings['male']),p_1))"
   ]
  },
  {
   "cell_type": "code",
   "execution_count": 95,
   "metadata": {},
   "outputs": [
    {
     "data": {
      "text/plain": [
       "[(u'male', 0.7840210199356079),\n",
       " (u'female', 0.7297861576080322),\n",
       " (u'spermatophore', 0.5466374158859253),\n",
       " (u'subadult', 0.5286056399345398),\n",
       " (u'college-aged', 0.5281054973602295),\n",
       " (u'valva', 0.52768474817276),\n",
       " (u'males', 0.5244476795196533),\n",
       " (u'college-age', 0.5226996541023254),\n",
       " (u'adult', 0.5078826546669006),\n",
       " (u'sub-adult', 0.5077838897705078)]"
      ]
     },
     "execution_count": 95,
     "metadata": {},
     "output_type": "execute_result"
    }
   ],
   "source": [
    "client.similar_by_vector(_np_normalize(embeddings['male'])-np.dot(np.dot(w,w.T),_np_normalize(embeddings['male'])))"
   ]
  },
  {
   "cell_type": "code",
   "execution_count": 137,
   "metadata": {},
   "outputs": [],
   "source": [
    "words= filter(lambda x: x.lower() in embeddings,names)"
   ]
  },
  {
   "cell_type": "code",
   "execution_count": 138,
   "metadata": {
    "scrolled": true
   },
   "outputs": [
    {
     "name": "stdout",
     "output_type": "stream",
     "text": [
      "summed toxity polarity:  2.2352436\n"
     ]
    },
    {
     "data": {
      "image/png": "[encoded data removed]",
      "text/plain": [
       "<Figure size 432x288 with 1 Axes>"
      ]
     },
     "metadata": {},
     "output_type": "display_data"
    }
   ],
   "source": [
    "%matplotlib inline\n",
    "\n",
    "df1 = pd.DataFrame(data={\"Identity Terms\": list(words)})\n",
    "df1[\"sentiment polarity\"] = df1[\"Identity Terms\"].map(\n",
    "        lambda a: (_np_normalize(embeddings[a.lower()]).dot(vec)))\n",
    "df1.sort_values(by=\"sentiment polarity\", inplace=True)\n",
    "# fig = plt.figure() \n",
    "# fig.set_size_inches(18.5, 10.5)\n",
    "fig = df1.plot.bar(legend = False, ylim= (-.75,.75),x=\"Identity Terms\",y=\"sentiment polarity\",fontsize=10, color = 'blue',colormap='Paired')\n",
    "plt.xlabel('Identity Terms', fontsize=14)\n",
    "plt.ylabel('Sentiment Polarity', fontsize=14)\n",
    "plt.title(\"Sentiment Polarity for AA and E Names\",fontsize= 15)\n",
    "a=map(lambda a: (_np_normalize(embeddings[a.lower()])).dot(vec),words)\n",
    "print \"summed toxity polarity: \", np.sum(np.abs(np.array(a)))\n",
    "plt.draw()\n",
    "fig.get_figure().savefig('/home/csweeney/Downloads/1n.png', format='png',dpi=300,bbox_inches='tight')\n"
   ]
  },
  {
   "cell_type": "code",
   "execution_count": 139,
   "metadata": {},
   "outputs": [],
   "source": [
    "words= df1[\"Identity Terms\"].values"
   ]
  },
  {
   "cell_type": "code",
   "execution_count": 140,
   "metadata": {},
   "outputs": [
    {
     "name": "stdout",
     "output_type": "stream",
     "text": [
      "summed toxity polarity:  1.0473378\n"
     ]
    },
    {
     "data": {
      "image/png": "[encoded data removed]",
      "text/plain": [
       "<Figure size 432x288 with 1 Axes>"
      ]
     },
     "metadata": {},
     "output_type": "display_data"
    }
   ],
   "source": [
    "%matplotlib inline\n",
    "df = pd.DataFrame(data={\"Identity Terms\": list(words)})\n",
    "df[\"sentiment polarity\"] = df[\"Identity Terms\"].map(\n",
    "        lambda a: (_np_normalize(embeddings[a.lower()])-(np.dot(np.dot(w,w.T),_np_normalize(embeddings[a.lower()])))).dot(vec))\n",
    "#     df.sort_values(by=\"sentiment polarity\", inplace=True)\n",
    "# plt.figure()\n",
    "fig = df.plot.bar(legend = False, ylim= (-.75,.75),x=\"Identity Terms\",y=\"sentiment polarity\",fontsize=10,color='blue', colormap='Paired')\n",
    "plt.xlabel('Identity Terms', fontsize=14)\n",
    "plt.ylabel('Sentiment Polarity', fontsize=14)\n",
    "plt.title(\"Debiased Sentiment Polarity for AA and E Names\",fontsize= 15)\n",
    "a=map(lambda a: (_np_normalize(embeddings[a.lower()])-(np.dot(np.dot(w,w.T),_np_normalize(embeddings[a.lower()])))).dot(vec),words)\n",
    "print \"summed toxity polarity: \", np.sum(np.abs(np.array(a)))\n",
    "plt.draw()\n",
    "fig.get_figure().savefig('/home/csweeney/Downloads/2n.png', format='png',dpi=300,bbox_inches='tight')\n"
   ]
  },
  {
   "cell_type": "code",
   "execution_count": 134,
   "metadata": {},
   "outputs": [
    {
     "data": {
      "text/plain": [
       "(-0.6, 0.6)"
      ]
     },
     "execution_count": 134,
     "metadata": {},
     "output_type": "execute_result"
    },
    {
     "data": {
      "image/png": "[encoded data removed]",
      "text/plain": [
       "<Figure size 432x288 with 1 Axes>"
      ]
     },
     "metadata": {},
     "output_type": "display_data"
    }
   ],
   "source": [
    "plt.figure()\n",
    "plt.xlabel('Identity Terms', fontsize=9)\n",
    "plt.ylabel('sentiment delta', fontsize=14)\n",
    "plt.title(\"Sentiment Polarity Delta after Debiasing\",fontsize= 15)\n",
    "index = np.arange(len(words))\n",
    "delta = df[\"sentiment polarity\"].values-df1[\"sentiment polarity\"].values\n",
    "bar = plt.bar(index,delta,width=.5)\n",
    "for i,j in enumerate(delta):\n",
    "    bar[i].set_color('r') if j<0 else bar[i].set_color('g')\n",
    "plt.xticks(index, words, fontsize=12, rotation=90)\n",
    "plt.ylim(top=.6,bottom=-.6)"
   ]
  },
  {
   "cell_type": "code",
   "execution_count": 135,
   "metadata": {},
   "outputs": [
    {
     "data": {
      "image/png": "[encoded data removed]",
      "text/plain": [
       "<Figure size 432x288 with 1 Axes>"
      ]
     },
     "metadata": {},
     "output_type": "display_data"
    }
   ],
   "source": [
    "fig = plt.figure()\n",
    "plt.xlabel('Identity Terms', fontsize=14)\n",
    "plt.ylabel('Relative Decrease', fontsize=14)\n",
    "plt.title(\"Relative Decrease in Sentiment Polarity\",fontsize= 15)\n",
    "index = np.arange(len(words))\n",
    "delta = np.abs(df1[\"sentiment polarity\"].values)-np.abs(df[\"sentiment polarity\"].values)\n",
    "plt.bar(index,delta/np.abs(df1[\"sentiment polarity\"].values),width=.5)\n",
    "# plt.bar(index,df[\"sentiment polarity\"].values,width=.5)\n",
    "# for i,j in enumerate(delta):\n",
    "#     bar[i].set_color('r') if j<0 else bar[i].set_color('g')\n",
    "plt.xticks(index, words, fontsize=10, rotation=90)\n",
    "plt.ylim(top=1,bottom=0)\n",
    "fig.savefig('/home/csweeney/Downloads/gender_rebiased.png', format='png',dpi=300,bbox_inches='tight')\n"
   ]
  },
  {
   "cell_type": "code",
   "execution_count": 136,
   "metadata": {},
   "outputs": [
    {
     "data": {
      "text/plain": [
       "-0.29989783903572165"
      ]
     },
     "execution_count": 136,
     "metadata": {},
     "output_type": "execute_result"
    }
   ],
   "source": [
    "np.sum(delta/np.abs(df1[\"sentiment polarity\"].values))/len(delta)"
   ]
  },
  {
   "cell_type": "markdown",
   "metadata": {},
   "source": [
    "## test analogy accruacy on debiased word embeddings"
   ]
  },
  {
   "cell_type": "code",
   "execution_count": 70,
   "metadata": {},
   "outputs": [
    {
     "name": "stdout",
     "output_type": "stream",
     "text": [
      "0.1\n",
      "0.2\n",
      "0.3\n",
      "0.4\n",
      "0.5\n",
      "0.6\n",
      "0.7\n",
      "0.8\n",
      "0.9\n",
      "1.0\n"
     ]
    },
    {
     "data": {
      "text/plain": [
       "0.21"
      ]
     },
     "execution_count": 70,
     "metadata": {},
     "output_type": "execute_result"
    }
   ],
   "source": [
    "(X,y,l) = load_vectors_test(embeddings,analogies)\n",
    "analogy_accuracy(X,l,embeddings,n = 1,samples=100,model=lambda x :(x-(np.dot(np.dot(w,w.T),x))))"
   ]
  }
 ],
 "metadata": {
  "colab": {
   "collapsed_sections": [
    "JndnmDMp66FL"
   ],
   "name": "Mitigating Unwanted Biases in Word Embeddings with Adversarial Learning.ipynb",
   "provenance": [],
   "toc_visible": true,
   "version": "0.3.2"
  },
  "kernelspec": {
   "display_name": "Python 2",
   "language": "python",
   "name": "python2"
  },
  "language_info": {
   "codemirror_mode": {
    "name": "ipython",
    "version": 2
   },
   "file_extension": ".py",
   "mimetype": "text/x-python",
   "name": "python",
   "nbconvert_exporter": "python",
   "pygments_lexer": "ipython2",
   "version": "2.7.15rc1"
  }
 },
 "nbformat": 4,
 "nbformat_minor": 1
}
